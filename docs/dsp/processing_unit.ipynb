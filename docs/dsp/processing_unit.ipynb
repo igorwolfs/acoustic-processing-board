{
 "cells": [
  {
   "cell_type": "markdown",
   "id": "788ee914",
   "metadata": {},
   "source": [
    "# DATA INPUT Processing Requirements \n",
    "Processing required on-chip in different categories\n",
    "## DSP\n",
    "- FIR / CIC filters (anti-aliasing, bandpass, decimation)\n",
    "- Polyphase filterbanks / decimation\n",
    "- Hilbert transforms / envelope detection\n",
    "## Real-Time correlation, peak-picking\n",
    "- Correlate incoming waveform with transmitted waveform (sliding window multiply / accumulate)\n",
    "\t- So for this you'd need multiplication units\n",
    "- Sub-sample interpolation for time-stamp (fitting a parabola around the correlation peak)\n",
    "## Deterministic Triggering / Time-Samping\n",
    "- Hardware time-stamping (latch a counter as soon as the signal is sent - No OS jitter here)\n",
    "- Multi-channel synchronization (not valid here since only a single channel is present)\n",
    "## On-the-fly Spectral / Distortion Analysis\n",
    "- Streaming FFT: continuously transferring data into spectral bins in parallel with everything else\n",
    "- Spectral windowing / harmonic tracking (cascade windowing FIRs, FFT and FIR / IIR trackers to follow distortion in parallel on spectral bins)"
   ]
  },
  {
   "cell_type": "markdown",
   "id": "128a5ccc",
   "metadata": {},
   "source": [
    "## Stage 1: raw data incoming"
   ]
  },
  {
   "cell_type": "markdown",
   "id": "2c0e3645",
   "metadata": {},
   "source": [
    "### Input data buffering"
   ]
  },
  {
   "cell_type": "code",
   "execution_count": 4,
   "id": "00675840",
   "metadata": {},
   "outputs": [
    {
     "name": "stdout",
     "output_type": "stream",
     "text": [
      "total bytes: 4375.0, bytes per cycle 43.75\n"
     ]
    }
   ],
   "source": [
    "'''\n",
    "- 10-bit (10 data-pins) clocked at 35 MHz\n",
    "- These samples need to be buffered so you have about n_cycles cycles\n",
    "'''\n",
    "n_cycles = 100\n",
    "freq_sample_max = 35e6\n",
    "freq_exc_min = 1e6\n",
    "bytes_per_cycle = (10 / 8) * (freq_sample_max / freq_exc_min)\n",
    "n_bytes = bytes_per_cycle * n_cycles\n",
    "print(f\"total bytes: {n_bytes}, bytes per cycle {bytes_per_cycle}\")"
   ]
  },
  {
   "cell_type": "markdown",
   "id": "616fce31",
   "metadata": {},
   "source": [
    "### Input\n",
    "- 10-bit (10 data-pins) clocked at 35 MHz\n",
    "- Shifted in phase and gain according to the analog input stage\n",
    "- This needs to be buffered\n",
    "\n",
    "\n",
    "### Processing\n"
   ]
  },
  {
   "cell_type": "markdown",
   "id": "cb279141",
   "metadata": {},
   "source": [
    "\n",
    "## DSP\n",
    "- FIR / CIC filters (anti-aliasing, bandpass, decimation)\n",
    "- Polyphase filterbanks / decimation\n",
    "- Hilbert transforms / envelope detection\n",
    "## Real-Time correlation, peak-picking\n",
    "- Correlate incoming waveform with transmitted waveform (sliding window multiply / accumulate)\n",
    "\t- So for this you'd need multiplication units\n",
    "- Sub-sample interpolation for time-stamp (fitting a parabola around the correlation peak)\n",
    "## Deterministic Triggering / Time-Samping\n",
    "- Hardware time-stamping (latch a counter as soon as the signal is sent - No OS jitter here)\n",
    "- Multi-channel synchronization (not valid here since only a single channel is present)\n",
    "## On-the-fly Spectral / Distortion Analysis\n",
    "- Streaming FFT: continuously transferring data into spectral bins in parallel with everything else\n",
    "- Spectral windowing / harmonic tracking (cascade windowing FIRs, FFT and FIR / IIR trackers to follow distortion in parallel on spectral bins)"
   ]
  },
  {
   "cell_type": "markdown",
   "id": "79607709",
   "metadata": {},
   "source": [
    "# MCU vs FPGA"
   ]
  },
  {
   "cell_type": "markdown",
   "id": "844ed423",
   "metadata": {},
   "source": [
    "## STM32\n",
    "- Needs an external ADC anyways, internal ADC's never go above 10 MHz\n",
    "- Needs a high clock speed to clock the 20 MHz data-rate with the IO-pins\n",
    "\t- So would require clock speeds > 100 MHz which increases the cost\n",
    "\t- Even with clock speeds > 100 MHz it won't be able to do complex calculations in parallel"
   ]
  },
  {
   "cell_type": "markdown",
   "id": "d112bc03",
   "metadata": {},
   "source": [
    "## RP2040\n",
    "- Clock speeds up to 200 MHz\n",
    "- Fast enough for data acquisition and passing on however\n",
    "\t- Not enough speed for data-processing"
   ]
  },
  {
   "cell_type": "markdown",
   "id": "f6c165d1",
   "metadata": {},
   "source": [
    "## FPGA\n",
    "Base your choice on:\n",
    "- Max clock-speed required\n",
    "- Number of LUT's required\n",
    "- Number of multiplier elements required\n",
    "- Number of pins required\n",
    "\t- Peripherals required (external + SRAM + flash communication)\n"
   ]
  },
  {
   "cell_type": "markdown",
   "id": "7a9a9556",
   "metadata": {},
   "source": [
    "### LUT's\n",
    "\n"
   ]
  },
  {
   "cell_type": "markdown",
   "id": "1ef6d142",
   "metadata": {},
   "source": [
    "### Lattice UP5K (used in lit3rick)\n",
    "- 5280 LUT's\n",
    "- 120 kbits of EBR RAM\n",
    "- 1024 kbits of SPRAM\n",
    "- I2C core x 2\n",
    "- SPI core x 2\n",
    "- 10 kHz and 48 MHz oscillator\n",
    "#### Multiply and accumulator blocks: 8\n",
    "Multiplier:\n",
    "- Input: 2 16-bit numbers\n",
    "- Produce 32-bit output in a single cycle\n",
    "\n",
    "Accumulator:\n",
    "- Input: A, B, ACC_old\n",
    "- Output: ACC_new = ACC_old + (A x B)\n",
    "\n",
    "**Usefull for**\n",
    "- FIR / IIR filters\n",
    "\t- Note: for an N-tap filter we'd need N multiply-accumulate blocks in parallel.\n",
    "\t- For a single multiplier block we would normally require about \n",
    "\t\t- 320 LUT's (16x16 multiplier)\n",
    "\t\t- 88 LUT's (8x8 multiplier)\n",
    "\n",
    "### Lattice ICE40HX4K-TQ144\n",
    "\n",
    "### Lattice ECP5-25 (LFE5U-25F-6BG256C6)\n",
    "- 24 k luts\n",
    "- 1008 kb Embedded memory\n",
    "- 194 kb distributed RAM\n",
    "- 28 18x18 multipliers\n",
    "- 2/2 PLL's\n",
    "- BGA\n",
    "\n",
    "\n",
    "\n",
    "### XC6SLX25-2FTG256C\n",
    "- 24k luts\n",
    "- 38 DSP slices\n",
    "- 936 kb ram\n",
    "- 266 max user I/O's\n",
    "\n",
    "### GOWIN GW1N-LV9LQ144C6/I5\n",
    "- Good option\n",
    "- Really good price / quality wise\n",
    "- 144 pinouts\n",
    "### Internal clock generation\n",
    "- Up to 600 MHz (does this make sense?)\n",
    "\n",
    "### GW1NR vs GW1N\n",
    "The main difference between the GW1N series and the GW1NR series is that the GW1NR series integrates abundant Memory chip. The GW1NR series also provides low power consumption, instant on, low cost, non-volatile, high security, various packages, and flexible usage.\n"
   ]
  },
  {
   "cell_type": "markdown",
   "id": "c3b00e3f",
   "metadata": {},
   "source": [
    "## Lattice ECP5-25 (LFE5U-25F-6BG256C6)\n",
    "Preferred choice due to the large amount of LUT's, DSP blocks, clock capacbility and price.\n",
    "\n",
    "### Clock\n",
    "- Check for fanout / drive-strength of FPGA\n",
    "- Check for appropriate input clock\n",
    "#### Clock output to MS9280\n",
    "- Make sure you can generate a 35 MHz clock either through some external oscillator, or internally.\n",
    "\n",
    "#### Clock input from external oscillator\n",
    "- \n",
    "\n",
    "### LED Drivers\n",
    "- Check for LED driver pin location, try to place LED's close.\n",
    "\n",
    "\n",
    "### Flash\n",
    "\n",
    "### RAM / DDR\n"
   ]
  },
  {
   "cell_type": "markdown",
   "id": "ad031fbf",
   "metadata": {},
   "source": [
    "# Memory\n",
    "## RAM"
   ]
  },
  {
   "cell_type": "markdown",
   "id": "9ba8ee32",
   "metadata": {},
   "source": [
    "### Asynchronous SRAM Memory\n",
    "SRAM: slower (100 MHz read/write) and lower cost\n",
    "- Can only take in a few ms of data (kB up to a fw Mb)\n",
    "- Easier to layout\n",
    "\n",
    "NOTE: my FPGA will probably max out at a clock speed of about 200-300 MHz. (example when using Lattice FPGA's)"
   ]
  },
  {
   "cell_type": "markdown",
   "id": "8f2b014f",
   "metadata": {},
   "source": [
    "### DDR-ram\n",
    "- Faster, smaller FIFO's"
   ]
  },
  {
   "cell_type": "markdown",
   "id": "21def474",
   "metadata": {},
   "source": [
    "## FLASH\n",
    "### SPI-NOR Flash\n"
   ]
  },
  {
   "cell_type": "markdown",
   "id": "914901ed",
   "metadata": {},
   "source": []
  }
 ],
 "metadata": {
  "kernelspec": {
   "display_name": ".venv",
   "language": "python",
   "name": "python3"
  },
  "language_info": {
   "codemirror_mode": {
    "name": "ipython",
    "version": 3
   },
   "file_extension": ".py",
   "mimetype": "text/x-python",
   "name": "python",
   "nbconvert_exporter": "python",
   "pygments_lexer": "ipython3",
   "version": "3.12.3"
  }
 },
 "nbformat": 4,
 "nbformat_minor": 5
}
