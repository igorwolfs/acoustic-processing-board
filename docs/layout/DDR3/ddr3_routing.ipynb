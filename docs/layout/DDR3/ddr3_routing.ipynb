{
 "cells": [
  {
   "cell_type": "markdown",
   "id": "29368cd9",
   "metadata": {},
   "source": [
    "# DDR3 Data DQ groups\n",
    "Data pairs need to be matched separately in DQ-groups, and have more stringent requirements than the other pins:\n",
    "- DQ group 0..7 bits  should be length matched together with their strobes\n",
    "- DQ group 8..15 bits should be length matched together with their strobes\n",
    "- Data, command control-bus: should be matched together.\n",
    "\n",
    "![](images/BGA96.png)\n",
    "\n",
    "## DRAM type\n",
    "- 96-Ball FBGA, DDR3-SDRAM\n",
    "- Datasheet: https://media.digikey.com/pdf/Data%20Sheets/Micron%20Technology%20Inc%20PDFs/MT41J256M4,128M8,64M16.pdf"
   ]
  },
  {
   "cell_type": "markdown",
   "id": "5953b5df",
   "metadata": {},
   "source": [
    "# Impedance\n",
    "Impedance of DDR3-traces should be \n",
    "- single-ended signals: 50 ohms\n",
    "- differential signals: 100 ohms\n",
    "\n",
    "Whenever a via is used, one must make sure to route all traces from that bus through the same via, to avoid delays.\n",
    "\n",
    "For the acoustic-carrier-board, most traces go through a via, check if all are routed through a via.\n",
    "\n",
    "One needs to compensate for that via delay.\n",
    "## Via delay simulation\n",
    "- Via width: 0.35 / 0.2 mm\n",
    "- Material: FR4\n",
    "\n",
    "## Trace coupling / impedance simulation\n",
    "- Trace width: 0.1565 mm\n",
    "- Target single-ended impedance: 50 ohms\n",
    "- Target differential impedance: 100 ohms"
   ]
  },
  {
   "cell_type": "markdown",
   "id": "4fe3d82e",
   "metadata": {},
   "source": [
    "# Definitions\n",
    "## Write-leveling (WRITE TIMING ONLY)\n",
    "One-time calibration process.\n",
    "- Deskews DQS strobe to CK relationship.\n",
    "- DQS: input, DQ: output for this operation mode\n",
    "\n",
    "## tDQSCK (READ TIMING ONLY)\n",
    "Clock-to-data strobe relationship: time difference between DQS and CK, CK#.\n",
    "\n",
    "This is an internal timing constraint, timing delay between CK/CK# and DQS for reads. This needs to be compensated for by layout."
   ]
  },
  {
   "cell_type": "markdown",
   "id": "9ca305ea",
   "metadata": {},
   "source": [
    "# Data Setup / Hold / Derating\n",
    "Setup and hold times are strongly related to slew rate. Larger slew rate means lower setup and hold times.\n",
    "\n",
    "The slew rate is accounted for by an additional variable $\\Delta t_{DS}, \\Delta t_{HS}$. Which takes into account the time for the signal to reach the AC175 thresholds.\n",
    "\n",
    "\n",
    "## AC175-threshold\n",
    "\n",
    "$$V_{IH}(AC) = V_{ref}(DC) + 175 mV$$\n",
    "$$V_{IL}(AC) = V_{ref}(DC) - 175 mV$$\n",
    "\n",
    "## Setup time\n",
    "Time signal must be applied after the last clock edge.\n",
    "\n",
    "For the DDR3-IC, total setup time is the sum of:\n",
    "### $t_{ds, base}$ base setup time\n",
    "- CMD-CTRL-ADDR bus: 275 ps\n",
    "- Data bus: 75 ps\n",
    "\n",
    "### $\\Delta t_{DS}$\n",
    "- CMD-CTRL-ADDR bus: varies between (-62 ps, 120 ps)\n",
    "\n",
    "## Hold time\n",
    "Time signal must be held before the next clock edge.\n",
    "\n",
    "For the DDR3-IC, total hold time is the sum of:\n",
    "\n",
    "### $t_{dh, base}$ base setup time\n",
    "- CMD-CTRL-ADDR bus: 275 ps\n",
    "- Data bus: 75 ps\n",
    "\n",
    "### $\\Delta t_{DH}$\n",
    "- CMD-CTRL-ADDR bus: varies between (-62 ps, 120 ps)\n",
    "- Data bus: \n",
    "\n",
    "## Slew rate\n",
    "In order to calculate the actual hold and setup times, one must have an idea of the slew rate.\n",
    "Slew rates vary from\n",
    "- (0.4, 2) V/ns for DQ-signals\n",
    "- (1, 4) V/ns for DQS-differential signals"
   ]
  },
  {
   "cell_type": "markdown",
   "id": "c59b564e",
   "metadata": {},
   "source": [
    "## Routing topology\n",
    "### Fly-by Topology\n",
    "Routing topology where COMMAND/ADDRESS bus is daisy chained with very short / no stubs.\n",
    "\n",
    "Each chip has its own DQS-groups.\n",
    "\n",
    "![](images/ddr_flyby2.png)\n",
    "\n",
    "### Double-T Topology\n",
    "\n",
    "\n",
    "![](images/double_T.png)\n"
   ]
  },
  {
   "cell_type": "markdown",
   "id": "d58640c1",
   "metadata": {},
   "source": [
    "# Alignment\n",
    "## Alignment types\n",
    "- UI = 1 / Data Rate (Unit Interval), time duration for a single bit of data.\n",
    "\t- Half CLK period in DQ case\n",
    "\t- Full CLK period in CMD/CTRL case\n",
    "\n",
    "![](images/data_alignment.png)\n",
    "\n",
    "### CLK and DATA centered at pin\n",
    "At the clock edge, the data is centered. (so 90 / 180 degree shift between clock edge and data)\n",
    "- So there is a positive setup time, and a positive hold time just before the CLK edge.\n",
    "\n",
    "### CLK and DATA aligned at pin\n",
    "At the clock edge, the data is invalid. It will only be valid after about 0.5 x UI.\n",
    "- The data-transition is aligned with the clock transition.\n",
    "- There's a negative setup time, and a larger hold time (hold time > setup time).\n",
    "\n",
    "- CLK and DATA aligned at rising clock edge.\n",
    "\t- Data is valid at the positive clock edge.\n",
    "\t- There is a > 0 setup time (so negative absolute) and > hold time that should be respected.\n",
    "- So you must make sure here that your data is slightly earlier than your clock.\n",
    "\n",
    "### Write\n",
    "- Controller (FPGA) sends data to DRAM\n",
    "- (LPDDR3) DQS is center-aligned for write data.\n",
    "\n",
    "#### Why?\n",
    "- DDR3-DRAM uses edges to capture incoming data.\n",
    "- The controller has the ability to delay the data-signals with respect to the DQS.\n",
    "\n",
    "### Read\n",
    "- DRAM sends data to controller (FPGA)\n",
    "- (LPDDR3) DQS is edge-aligned for read-data\n",
    "\n",
    "#### Why?\n",
    "- The DDR3-DRAM doesn't have the ability to delay DQ/DQS like the controller.\n",
    "\n",
    "### Command-control bus\n",
    "- Edge-aligned\n",
    "\n",
    "#### Why?\n",
    "- Center-alignment is used when data is sampled on both edges, it brings extra complications in hardware\n",
    "- Unnecessary in this case."
   ]
  },
  {
   "cell_type": "markdown",
   "id": "df294987",
   "metadata": {},
   "source": [
    "# DLL\n",
    "## DLL mode vs normal mode\n",
    "DLL: delay-locked loop, delays the clock.\n",
    "- Locks the output to an input, without using an oscillator.\n",
    "Used often to improve the clock rise-to-data output timing.\n",
    "\n",
    "### DLL disabled mode\n",
    "\n",
    "Affects \n",
    "- tDQSCK (read data clock-to-data strobe)\n",
    "\n",
    "Does not affect \n",
    "- tDQSQ, tQH (read-data-to-data strobe)\n",
    "- Data needs to be lined up with the controller time domain.\n",
    "\n",
    "## LPDDR3 vs DDR3\n",
    "LPDDR3 does NOT support DLL mode for power conservation reasons, DDR3 does. So the clock-to-data output delay from memory device is not compensated."
   ]
  },
  {
   "cell_type": "markdown",
   "id": "fd3ebd6f",
   "metadata": {},
   "source": [
    "# WARNING: THE FOLLOWING CALCULATIONS ARE INCOMPLETE"
   ]
  },
  {
   "cell_type": "markdown",
   "id": "410ef146",
   "metadata": {},
   "source": [
    "# CTRL / CMD / ADDR Bus (DDR3-800)\n",
    "- DDRX1 on the FPGA-side, one bit per cycle\n",
    "- CK, CK# differential clock inputs\n",
    "- inputs sampled on crossing of positive CK edge, negative CK# edge.\n",
    "\n",
    "![](images/micron_cmd_ctrl.png)\n",
    "\n",
    "\n",
    "## Functionality\n",
    "- Indicates the type of command (read / write)\n",
    "- Indicates address (Address)\n",
    "- RAM reset command\n",
    "- Refresh\n",
    "- .. (check page 91 on datasheet)\n",
    "\n",
    "### Input\n",
    "- CLK and DATA Aligned at pin (case here)"
   ]
  },
  {
   "cell_type": "code",
   "execution_count": null,
   "id": "75ef79aa",
   "metadata": {},
   "outputs": [],
   "source": [
    "\n",
    "# * 350 MHz cycle time (CMD-CTRL BUS)\n",
    "t_cycle = 1/(350e6)\n",
    "\n",
    "# * T_skew\n",
    "t_cmdctrl_clk_trace = 1e-9 #? GET CORRECT CLK TRACE LENGTH\n",
    "t_cmdctrl_data_trace = 1e-9 #? GET CORRECT DATA TRACE LENGTH\n",
    "\n",
    "# * Trace delay\n",
    "t_trace_delay_s_per_mm = 5.5e-12 # 5.5 ps per mm\n",
    "\n",
    "# * T_skew_actual\n",
    "# Choose t_clk_trace e.g.: 6 mm longer than data-trace\n",
    "t_cmdctrl_clk_trace = t_trace_delay_s_per_mm * 6\n",
    "t_cmdctrl_data_trace = 0"
   ]
  },
  {
   "cell_type": "markdown",
   "id": "f8ac7a23",
   "metadata": {},
   "source": [
    "\n",
    "### LPDDR3 PHY -> FPGA\n",
    "Setup-time margin \n",
    "* Margin = Cycle time - FPGA's clock to output delay - PHY setup time \n",
    "* = T_cycle - T_CO(max) - T_su - T_skew [T_skew = T_data_trace - T_clk_trace]\n",
    "* Time it takes for the data to get to the receiver: T_CO(max) + T_data_trace\n",
    "\n",
    "Hold-time margin (Positive means hold time is met)\n",
    "* Margin = Datapath delay (min) - Hold time requirement = Clock to output delay (FPGA_min) + PCB trace delay - PHY hold-time"
   ]
  },
  {
   "cell_type": "markdown",
   "id": "e7258873",
   "metadata": {},
   "source": [
    "#### Setup-time margin calculation"
   ]
  },
  {
   "cell_type": "code",
   "execution_count": 69,
   "id": "16cdd9c3",
   "metadata": {},
   "outputs": [
    {
     "name": "stdout",
     "output_type": "stream",
     "text": [
      "t_skew_max: 0.467 ns\n",
      "Budget: 4.6700000000000004e-11 ns\n",
      "Critical length: 8.49090909090909 mm\n"
     ]
    }
   ],
   "source": [
    "\n",
    "#! FPGA->LPDDR3 SETUP TIME MARGIN\n",
    "# * DDR3 PHY Setup time\n",
    "t_setup_base = 200e-12\n",
    "t_setup_slew = 0e-12 # (Make sure to fill in based on slew-rate)\n",
    "t_setup = t_setup_base + t_setup_slew\n",
    "\n",
    "# * Clock to output delay (MAXIMUM)\n",
    "# - Data output invalid before/after CLK Output (CLK+/-)\n",
    "t_dco_before_clk = 300e-12\n",
    "\n",
    "#! CALCULATION (t_clk_trace - t_data_trace)\n",
    "# \n",
    "t_setup_margin = (t_dco_before_clk + t_data_trace)  + t_setup - t_clk_trace\n",
    "t_setup_budget = t_setup_margin / 10\n",
    "print(f\"t_skew_max: {t_setup_margin*1e9} ns\")\n",
    "print(f\"Budget: {t_setup_budget} ns\")\n",
    "print(f\"Critical length: {t_setup_budget / t_trace_delay_s_per_mm} mm\")\n",
    "\n",
    "# Note: don't add the period to the calculation\n",
    "# \t\tData is sampled at the clock edge, so essentially \n",
    "#\t\tthis would delay the data to be sampled to the next edge.\n",
    "# \t\tThe clock traces should in fact have a delay compared to the data traces."
   ]
  },
  {
   "cell_type": "markdown",
   "id": "fa715f70",
   "metadata": {},
   "source": [
    "#### Hold-time margin calculation"
   ]
  },
  {
   "cell_type": "code",
   "execution_count": 70,
   "id": "8fda2658",
   "metadata": {},
   "outputs": [
    {
     "name": "stdout",
     "output_type": "stream",
     "text": [
      "t_skew_max: 0.8205714285714286 ns\n"
     ]
    }
   ],
   "source": [
    "\n",
    "#! FPGA->LPDDR3 HOLD TIME MARGIN\n",
    "# * DDR3 PHY Hold time (time after the CLK-toggle the data needs to be ready)\n",
    "t_hold_base = 275e-12\n",
    "t_hold_slew = 0e-12 # (Make sure to fill in based on slew-rate)\n",
    "t_hold = t_hold_base + t_hold_slew\n",
    "\n",
    "# * Time output data is valid\n",
    "# - Shortest possible delay from FPGA internal update to signal change on FPGA output pin\n",
    "# Should be tDIB (min/max time between clock edge and data validity)\n",
    "tDIB = 0.3e-9\n",
    "t_UI = t_cycle / 2\n",
    "t_do_FPGA_valid = t_UI - tDIB\n",
    "\n",
    "# * Clock to output delay\n",
    "t_co_min_FPGA = 0 #? Assume 0 t_co delay due to compensation???\n",
    "\n",
    "#! CALCULATION (t_clk_trace - t_data_trace)\n",
    "t_hold_margin = (t_data_trace + t_do_FPGA_valid + t_co_min_FPGA - t_hold) - t_clk_trace\n",
    "print(f\"t_skew_max: {t_hold_margin*1e9} ns\")\n"
   ]
  },
  {
   "cell_type": "markdown",
   "id": "7a105b94",
   "metadata": {},
   "source": [
    "### Data / DQS-Bus (DDR3-800) TX (FPGA -> LPDDR3)\n",
    "\n",
    "- (FPGA-side) Instantiated using: ODDRX2F-MACRO in ECP5U: so 2 data-bits per clock cycle.\n",
    "- Center-aligned data sending (so data transition happens before and after the clock edge)\n"
   ]
  },
  {
   "cell_type": "code",
   "execution_count": 71,
   "id": "f403e12c",
   "metadata": {},
   "outputs": [],
   "source": [
    "\n",
    "# * 350 x 2 MHz cycle time (CMD-CTRL BUS)\n",
    "t_cycle = 1/ (350e6 * 2)\n",
    "t_UI = t_cycle # Half the clock period (time to transmit a single bit)\n",
    "\n",
    "# * T_skew\n",
    "t_clk_trace = 1e-9 #? GET CORRECT CLK TRACE LENGTH\n",
    "t_data_trace = 1e-9 #? GET CORRECT DATA TRACE LENGTH\n"
   ]
  },
  {
   "cell_type": "markdown",
   "id": "e5d521cb",
   "metadata": {},
   "source": [
    "#### Setup-time calculation"
   ]
  },
  {
   "cell_type": "code",
   "execution_count": null,
   "id": "ee15a5d8",
   "metadata": {},
   "outputs": [
    {
     "name": "stdout",
     "output_type": "stream",
     "text": [
      "t_skew_max: 0.19728571428571437 ns\n"
     ]
    }
   ],
   "source": [
    "\n",
    "#! FPGA->LPDDR3 SETUP TIME MARGIN\n",
    "# * DDR3 PHY Setup time\n",
    "# Data setup time to DQS, DQS#\n",
    "t_setup_base = 75e-12\n",
    "t_setup_slew = 0e-12 # (Make sure to fill in based on slew-rate, 128..-62)\n",
    "t_setup = t_setup_base + t_setup_slew\n",
    "\n",
    "# * Clock to output delay (MAXIMUM)\n",
    "# - Data output invalid before/after CLK Output (CLK+/-)\n",
    "# NOTE: took DDRX-values, not LPDDR-values\n",
    "t_dco_before_clk = 0.442e-9 + 0.5 * t_UI\n",
    "\n",
    "\n",
    "#! CALCULATION (t_clk_trace - t_data_trace)\n",
    "t_skew_max = t_cycle - t_dco_before_clk - t_setup\n",
    "print(f\"t_skew_max: {t_skew_max*1e9} ns\")"
   ]
  },
  {
   "cell_type": "markdown",
   "id": "2ff9a7f0",
   "metadata": {},
   "source": [
    "#### hold-time calculation"
   ]
  },
  {
   "cell_type": "code",
   "execution_count": 34,
   "id": "fad73f69",
   "metadata": {},
   "outputs": [
    {
     "name": "stdout",
     "output_type": "stream",
     "text": [
      "t_skew_max: 0.12228571428571439 ns\n"
     ]
    }
   ],
   "source": [
    "\n",
    "#! FPGA->LPDDR3 HOLD TIME MARGIN\n",
    "# * Clock to output delay (MAXIMUM)\n",
    "# - Data output valid before next CLK Output (CLK+/-)\n",
    "t_dco_before_next_clk = 0.442e-9 + 0.5 * t_UI\n",
    "\n",
    "# * DDR3 PHY Hold time\n",
    "t_hold_base = 150e-12\n",
    "t_hold_slew = 0e-12 # (Make sure to fill in based on slew-rate, 88..-30)\n",
    "t_hold = t_hold_base + t_hold_slew\n",
    "\n",
    "# * T_skew\n",
    "t_clk_trace = 1e-9 #? GET CORRECT CLK TRACE LENGTH\n",
    "t_data_trace = 1e-9 #? GET CORRECT DATA TRACE LENGTH\n",
    "\n",
    "#! CALCULATION (t_clk_trace - t_data_trace)\n",
    "t_skew_max = (t_cycle - t_dco_before_next_clk) - t_hold\n",
    "print(f\"t_skew_max: {t_skew_max*1e9} ns\")\n"
   ]
  },
  {
   "cell_type": "markdown",
   "id": "112a076a",
   "metadata": {},
   "source": [
    "### Data / DQS-Bus (DDR3-800) RX (LPDDR3 -> FPGA)\n",
    "- Edge-aligned: the LPDDR3-controller typically doesn't have the resources to center-align data."
   ]
  },
  {
   "cell_type": "code",
   "execution_count": 6,
   "id": "f93e7371",
   "metadata": {},
   "outputs": [],
   "source": [
    "\n",
    "# * 350 x 2 MHz cycle time (CMD-CTRL BUS)\n",
    "t_cycle = 1/ (350e6 * 2)\n",
    "t_UI = t_cycle # Half the clock period (time to transmit a single bit)\n",
    "\n",
    "# * T_skew\n",
    "t_clk_trace = 1e-9 #? GET CORRECT CLK TRACE LENGTH\n",
    "t_data_trace = 1e-9 #? GET CORRECT DATA TRACE LENGTH"
   ]
  },
  {
   "cell_type": "markdown",
   "id": "a2e565d6",
   "metadata": {},
   "source": [
    "#### Setup-time calculation"
   ]
  },
  {
   "cell_type": "code",
   "execution_count": 10,
   "id": "6fc9c46c",
   "metadata": {},
   "outputs": [
    {
     "name": "stdout",
     "output_type": "stream",
     "text": [
      "t_skew_max: -0.09799999999999992 ns\n"
     ]
    }
   ],
   "source": [
    "\n",
    "#! FPGA->LPDDR3 SETUP TIME MARGIN\n",
    "# * DDR3 PHY Setup time\n",
    "# Data setup time to DQS, DQS#\n",
    "t_setup_base = -344e-12 + 0.5*t_UI\n",
    "t_setup_slew = 0e-12 # (Make sure to fill in based on slew-rate, 128..-62)\n",
    "t_setup = t_setup_base + t_setup_slew\n",
    "\n",
    "# * Clock to output delay (MAXIMUM)\n",
    "# - Data output invalid before/after CLK Output (CLK+/-)\n",
    "# NOTE: took DDRX-values, not LPDDR-values\n",
    "t_dco_before_clk = 0.442e-9 + 0.5 * t_UI\n",
    "\n",
    "\n",
    "#! CALCULATION (t_clk_trace - t_data_trace)\n",
    "t_skew_max = t_cycle - t_dco_before_clk - t_setup\n",
    "print(f\"t_skew_max: {t_skew_max*1e9} ns\")"
   ]
  },
  {
   "cell_type": "markdown",
   "id": "fd361d75",
   "metadata": {},
   "source": [
    "#### hold-time calculation\n",
    "$t_{QH}$ is the guaranteed output hold-time from DQS, DQS#. So the time the data will be held stable by the LPDDR3-peripheral after it is sent."
   ]
  },
  {
   "cell_type": "code",
   "execution_count": 4,
   "id": "50f5872a",
   "metadata": {},
   "outputs": [
    {
     "name": "stdout",
     "output_type": "stream",
     "text": [
      "t_skew_max: 0.12228571428571439 ns\n"
     ]
    }
   ],
   "source": [
    "\n",
    "#! FPGA->LPDDR3 HOLD TIME MARGIN\n",
    "# * Clock to output delay (MAXIMUM)\n",
    "# - Data output valid before next CLK Output (CLK+/-)\n",
    "t_dco_before_next_clk = 0.442e-9 + 0.5 * t_UI\n",
    "\n",
    "# * DDR3 PHY Hold time\n",
    "t_hold_base = 150e-12\n",
    "t_hold_slew = 0e-12 # (Make sure to fill in based on slew-rate, 88..-30)\n",
    "t_hold = t_hold_base + t_hold_slew\n",
    "\n",
    "# * T_skew\n",
    "t_clk_trace = 1e-9 #? GET CORRECT CLK TRACE LENGTH\n",
    "t_data_trace = 1e-9 #? GET CORRECT DATA TRACE LENGTH\n",
    "\n",
    "#! CALCULATION (t_clk_trace - t_data_trace)\n",
    "t_skew_max = (t_cycle - t_dco_before_next_clk) - t_hold\n",
    "print(f\"t_skew_max: {t_skew_max*1e9} ns\")\n"
   ]
  },
  {
   "cell_type": "markdown",
   "id": "97d4d7b1",
   "metadata": {},
   "source": [
    "## CK/CK# and DQS-offset calibration\n",
    "- $t_{DQSCK}$: maximum offset write-leveling can compensate for. (on the LPDDR3-side) (total time budget here)\n",
    "- $t_{CO,fpga}$: maximum delay between CK/CK# and DQS on the FPGA side.\n",
    "- $t_{CO,dqs}$: maximum delay between CK/CK# and DQS on the DQS side.\n",
    "\n",
    "The maximum time-offset is: $$T_{DQSCK} - t_{CO} - abs(t_{clk} - t_{dqs})$$ for both data-groups"
   ]
  },
  {
   "cell_type": "code",
   "execution_count": null,
   "id": "a0ea28a1",
   "metadata": {},
   "outputs": [],
   "source": [
    "\n",
    "#! CK/CK# and DQS offset calibration\n",
    "\n",
    "# * tDQSQ\n",
    "tDQSQ = 200e-12 # DQSQ, DQSQ# to DQ skew, per access\n"
   ]
  },
  {
   "cell_type": "markdown",
   "id": "eed52aa5",
   "metadata": {},
   "source": [
    "# Sources\n",
    "- ECP5 and ECP5-5G High-Speed I/O Interface (FPGA-TN-02035-1-3)\n"
   ]
  },
  {
   "cell_type": "markdown",
   "id": "e4926833",
   "metadata": {},
   "source": [
    "## OrangeCrab\n",
    "### Command Control bus\n",
    "Distances:\n",
    "- CK, CK#: 24.79 x 2 (adding setup time margin)\n",
    "- CS#: 18.13 mm\n",
    "- BA0: 18.1 mm\n",
    "- A1: 18.16\n",
    "\n",
    "### DQ[0..7]\n",
    "- D3: 18.44 mm\n",
    "- D4: 18.4468 mm\n",
    "- LDQS+ / LDQS-: 18.9 mm\n",
    "\n",
    "### DQ[8..15]\n",
    "- D13: 18.935\n",
    "- DQU/#:  18.4852 mm\n",
    "- D14: 18.94 mm"
   ]
  },
  {
   "cell_type": "markdown",
   "id": "4cf553c6",
   "metadata": {},
   "source": [
    "## TrellisBoard\n",
    "### Command Control bus\n",
    "Distances:\n",
    "- CK, CK#: 77.5 mm\n",
    "- CKE: 88 mm\n",
    "- CAS: 87 mm\n",
    "\n",
    "### DQU\n",
    "- DQ10: 36.9 mm\n",
    "- DQ14: 36.83 mm\n",
    "- DQS1+-: 36.833 mm\n",
    "\n",
    "### DQL\n",
    "- DQ3: 40.5 mm\n",
    "- DM0:: 40.5262 mm\n",
    "- DQ1: 40.5173 mm\n",
    "- DQS0+-: 40.5 mm"
   ]
  },
  {
   "cell_type": "markdown",
   "id": "f712df77",
   "metadata": {},
   "source": [
    "## Rudimentary Timing \n",
    "\n",
    "- Table 58: DQS, DQS# to DQ skew, per access - tDQSQ: 200 ps max (DDR3L-800) (total time budget)\n",
    "- Period is 2 / 800e6 = 2.5 ns\n",
    "- Between clock pairs\n",
    "\t- 5 ps\n",
    "\t- (300e6 m/s * 50e-12 s) / ((sqrt(4.1) + 1) / 2) = 9.9 mm (6.635 mm in )\n",
    "\n",
    "- Between DQS+ and DQS-: +-2ps\n",
    "\t- 0.4 mm\n",
    "- Between DQ-signals: 10 ps\n",
    "\t- 2 mm\n"
   ]
  },
  {
   "cell_type": "markdown",
   "id": "4e13f13c",
   "metadata": {},
   "source": [
    "# Testpoints\n",
    "- Add small testpoints to DDR3-interface (0.5 mm diameter)\n"
   ]
  }
 ],
 "metadata": {
  "kernelspec": {
   "display_name": ".venv",
   "language": "python",
   "name": "python3"
  },
  "language_info": {
   "codemirror_mode": {
    "name": "ipython",
    "version": 3
   },
   "file_extension": ".py",
   "mimetype": "text/x-python",
   "name": "python",
   "nbconvert_exporter": "python",
   "pygments_lexer": "ipython3",
   "version": "3.12.3"
  }
 },
 "nbformat": 4,
 "nbformat_minor": 5
}
