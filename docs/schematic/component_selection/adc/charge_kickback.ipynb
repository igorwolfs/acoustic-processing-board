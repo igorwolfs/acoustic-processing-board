{
 "cells": [
  {
   "cell_type": "markdown",
   "id": "89570c66",
   "metadata": {},
   "source": [
    "# Charge kickback\n",
    "## Problem\n",
    "- Charge from the hold capacitors kicks back when the switch closes and needs a place to go\n",
    "- If there's no small capacitor or charge reservoir waiting next to the inputs to catch the discharge, LC resonance might happen with the line and you might have signal-integrity problems.\n",
    "\n",
    "## Solution\n",
    "- Add a small capacitor at the input to ensure a small storage space for charge"
   ]
  }
 ],
 "metadata": {
  "language_info": {
   "name": "python"
  }
 },
 "nbformat": 4,
 "nbformat_minor": 5
}
