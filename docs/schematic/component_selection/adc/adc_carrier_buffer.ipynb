{
 "cells": [
  {
   "cell_type": "markdown",
   "id": "bffd5807",
   "metadata": {},
   "source": [
    "# Input RC Pole\n",
    "## Problem\n",
    "For some reason there is roloff in my filter at 10 MHz.\n",
    "- This is probably the pole formed by the input cap together with the switch resistance, which is around 50 * 5e-12 = 25 MHz.\n",
    "- Given the switch is on half the time this probably reduces the influence to 12.5 MHz\n",
    "\n",
    "## Solution\n",
    "Seems to be unsolvable, the only thing you can really do is reduce the source impedance as much as possible to allow quick charging of the caps.\n",
    "\n",
    "You can though add an extra pole in the amplification circuit so there's amplification happening between 6 and 10 MHz for example if this would be the problematic frequency band.\n",
    "\n",
    "You thus need a high-speed buffer that can deliver enough current at the right moment, and has a tight feedback loop with the ADC input. So fast voltage drops at the output as a consequence of capacitor current consumption must be immediately filled-up."
   ]
  },
  {
   "cell_type": "markdown",
   "id": "e2f9b249",
   "metadata": {},
   "source": [
    "# Pre-built differential amplifiers\n",
    "\n",
    "- They are probably more expensive, but easier to integrate.\n",
    "- Ideally they have some-kind of tuning possibility to work away the input pole.\n",
    "- Ideally they have a commonly used package.\n",
    "- They should take a differential signal and\n",
    "\t- Output a differential signal\n",
    "\t- (still considering) output a single-ended signal -> just in case maybe we'd like to limit ourselves to differential signal transfer, and single-ended measuring once we hit the end. It cheapens our front-end and probably improves signal quality, since I'm not sure whether the system is actually meant for differential signal measurement.\n",
    "\n",
    "## Examples\n",
    "### AD: \n",
    "#### ADA4940\n",
    "- differential input to differential output ADC buffer\n",
    "\n",
    "#### ADA4941\n",
    "- Differential input to differential output ADC buffer\n",
    "\n",
    "#### AD8137\n",
    "[link](https://jlcpcb.com/api/file/downloadByFileSystemAccessId/8604443426939154432)\n",
    "\n",
    "- differential driver\n",
    "- common-mode voltage pin\n",
    "- single-ended to differential and fully differential configurations possible.\n",
    "- Requires external feedback\n",
    "- Differential to differential amplification\n",
    "\n",
    "### TI:\n",
    "#### OPA356\n",
    "simple OPAMP, high frequency\n",
    "\n",
    "#### THS4551\n",
    "Fully differential amplifier\n",
    "- Requires external feedback + phase compensation\n",
    "\n",
    "#### THS452x\n",
    "Differential amplfiier, example configuration:\n",
    "\n",
    "![](images/adc_buffer_example_circuit.png)\n",
    "\n",
    "- GBW: 145 MHz bandwidth: 1 V Amplification\n",
    "- Small-signal bandwidth: 135 MHz"
   ]
  },
  {
   "cell_type": "markdown",
   "id": "c2eeb933",
   "metadata": {},
   "source": [
    "# Electrical specs\n",
    "## Pins\n",
    "- PDn: if pulled-up runs the amplifier.\n",
    "- Vocm: common mode voltage input"
   ]
  },
  {
   "cell_type": "markdown",
   "id": "081245b6",
   "metadata": {},
   "source": [
    "## Pin Electrical Specs\n",
    "\n",
    "The reference voltage comes from the ADC Vdd, so either\n",
    "- We make a low-impedance voltage divider, and run a lot of current through it.\n",
    "- We make a high-impedance divider which we then buffer (probably the better option)\n",
    "- We use an LDO as a voltage reference\n",
    "\n",
    "### Input voltages (Vi, Vo, Vocm)\n",
    "- Between Vs- - 0.7 and Vs+ + 0.7 (so 0-> 4 V max)\n",
    "- Vid (differential input voltage): 1 V\n",
    "\n",
    "### Current sourcing / sinking\n",
    "- Input current: max 10 mA (Vin and Vocm)\n",
    "- Output current: max 100 mA\n",
    "\n",
    "## Buffering common mode voltage"
   ]
  },
  {
   "cell_type": "markdown",
   "id": "edca4ff1",
   "metadata": {},
   "source": [
    "# LTSpice"
   ]
  },
  {
   "cell_type": "markdown",
   "id": "d376db22",
   "metadata": {},
   "source": [
    "## Differential vs Common mode source resistance"
   ]
  },
  {
   "cell_type": "markdown",
   "id": "e019642f",
   "metadata": {},
   "source": [
    "![](images/thevenin_diff_source.png)\n",
    "\n",
    "This is a way we can create a differential signal with amplitude V_DIFF with an offset of V_CM. However there is no source resistance here and the common-mode impedance is only 50 ohms, where ideally it would be infinity. (impedance to 0 V / Vds should be 0 given there is no \"ground\" / \"common mode\" to carry back the signal)\n",
    "\n",
    "### Thevenin\n",
    "1. Load Rl: assume infinity -> remove\n",
    "2. Remove and calculte open circuit voltage: V_CM + V_DIFF\n",
    "3. Thevenin impedance:\n",
    "\t- Voltage source becomes short\n",
    "\t- Current source becomes open circuit\n",
    "4. Thevenin's equivalent circuit: a short\n",
    "\n",
    "### Differential vs Common mode impedance\n",
    "The ideal scenario: \n",
    "- The common-mode impedance should be infinity for AC signals, and 0 for DC signals.\n",
    "\t- No (or extremely small) current flow between the differential and common mode\n",
    "\t- Perfectly balanced signals\n",
    "\n",
    "Non-ideal scenario:\n",
    "- There are non-symmetrical effects between your transformer windings.\n",
    "- These cause assymetric current flows with the common mode.\n",
    "- These affect the common mode voltage.\n",
    "\n",
    "Main AC current flowing\n",
    "- Currents from the AC differential signal \n",
    "\t- ideally\n",
    "\t\t- balanced symmetrical signal\n",
    "\t\t- current flows from one half to the other half of the secondary winding\n",
    "\t\t- symmetry at the center-tap cancels them out.\n",
    "\t- real-world case\n",
    "\t\t- imbalances and assymetries in impdeance cause the current to flow through the center tap.\n",
    "\n",
    "\n",
    "- Single-ended mode\n",
    "\t- Higher resistance between common mode and lines\n",
    "\t\t- Less distortion in source impedance\n",
    "\t\t- Less voltage drop due to that\n",
    "\t\t- More susceptible to leakage or noise\n",
    "\t- Smaller resistance\n",
    "\t\t- Bias is fixed and won't change with disturbance\n",
    "\t\t- Zdiff will be different\n",
    "- The differential-mode impedance should be 0.\n",
    "\n",
    "## Biasing THS4521 input\n",
    "The THS4521 input still needs to be biased to a voltage within acceptable limits. \n",
    "It can not amplify signals that go below the Vss-, so they need to be biased around a center point.\n",
    "\n",
    "### Choosing the Rbias value\n",
    "\n",
    "#### 1. Signal attenuation\n",
    "- Lower Rbias: lower input impedance, and thus more signal attenuation\n",
    "- Higher Rbias, higher signal lower signal attenuation\n",
    "\n",
    "#### 2. DC Offset due to input bias current\n",
    "\n",
    "Input bias current depends mostly on the THS4521 input bias current.\n",
    "\n",
    "This input bias current is about 0.80 uA at worst.\n",
    "- For 1 kOhm: 0.80 mV\n",
    "- For 100 kOhm: 80 mV offset\n",
    "\n",
    "#### 3. Thermal noise\n",
    "- Higher resistance value: more thermal noise\n",
    "\n",
    "#### 4. High-pass filter (in case of using AC coupling capacitors)\n",
    "- Your AC coupling capacitance together with your input impedance (R_amplifier_input || R_bias ~= R_bias) to common mode forms a high-pass filter with a zero at 1/(2*pi*R*C)\n",
    "\t- You get a pole (at 1/2*pi*R*C) and a zero (at DC)\n",
    "\t- 1/(2*pi*R*C) = [R=1k, C=100nF] 1.591 kHz which is definitely low enough, making this 10 kOhm lowers it even more."
   ]
  },
  {
   "cell_type": "markdown",
   "id": "36dd1a59",
   "metadata": {},
   "source": [
    "## Effect of output capacitor\n",
    "Pole is formed by the closed loop output impdeance $Z_{out, cl}$ and the differential output capacitor $C_{out_diff}$.\n",
    "\n",
    "A resistor is added to increase the open loop output impedance to 50 ohms for each line.\n",
    "\n",
    "$$\n",
    "Z_{\\mathrm{out,cl,diff}}(s) \\;\\approx\\; \n",
    "\\frac{2\\,R_{\\mathrm{ol}}}{\\,1 + A_{\\mathrm{ol}}(s)\\,\\beta(s)\\,}\n",
    "$$\n",
    "\n",
    "- $A_{ol}$: open loop gain\n",
    "- $\\Beta(s)$: feedback factor (frequency dependent)\n",
    "- $2*R_{ol}$: open loop resistance added\n",
    "\n",
    "So a pole in the feedback function appears at $$1/(2*\\pi*c_{fb}*r_{fb} = 1/(2*\\pi*1e3 * 10e-12 = 15.9 MHz$$\n",
    "\n",
    "\n",
    "### Example: 10 nF capacitor\n",
    "- Observed pole at 1.5 MHz\n",
    "- $C_{F}$ has less impact, feedback factor $\\beta$ = 1 and is mainly set by the resistors\n",
    "So: $$Z_{out,cl,diff} \\approx \\frac{2*R_{ol}}{1+A_{aol}*\\beta}$$\n",
    "- Because of this the output impdeance is much lower (about 10 ohms)\n",
    "\n",
    "### Example: 10 pF capacitor\n",
    "\n",
    "- The feedback factor is influenced by the pole, and starts to decrease.\n",
    "- As a consequence to this degradation the output impedance starts to increase.\n",
    "- This will move the pole created by the differential output capacitor and the closed loop impedance to a lower place then initially expected."
   ]
  },
  {
   "cell_type": "markdown",
   "id": "ac119145",
   "metadata": {},
   "source": [
    "## Effect of the output resistor\n",
    "- Series resistors at the output are meant to limit instability when driving capacitive loads\n",
    "\t- Due to the feedback resistance the voltage drop there will be compensated by the feedback."
   ]
  },
  {
   "cell_type": "markdown",
   "id": "ad3d9fae",
   "metadata": {},
   "source": [
    "## Effect of the feedback capacitor\n",
    "\n",
    "The feedback capacitor gives a short path for the HF signals to the output.\n",
    "- Creates a quick path for high-frequency signals (no need to travel through the resistor)\n",
    "\t- Improves phase margin\n",
    "### Why placing it before the resistor?\n",
    "- Avoid an RC network with input resistors (might introduce an extra pole in FB loop)\n",
    "\n"
   ]
  },
  {
   "cell_type": "markdown",
   "id": "b4772617",
   "metadata": {},
   "source": [
    "# Adding single-ended measurement possibility\n",
    "- Make sure to add the option of getting rid of the ADC_AIN-terminal by \n",
    "\t- Placing a resistor in series with the input\n",
    "\t- Placing a footprint with a 50 ohm output to ground"
   ]
  },
  {
   "cell_type": "markdown",
   "id": "470aea38",
   "metadata": {},
   "source": [
    "# Reference voltage "
   ]
  },
  {
   "cell_type": "markdown",
   "id": "ddf75304",
   "metadata": {},
   "source": [
    "## Isolation resistor at input\n",
    "### Rule of thumb\n",
    "- Check datasheet (10-100 ohms)\n",
    "\n",
    "### Estimation / Calculation\n",
    "Rough Estimation: Open loop output resistance with the load capacitance forms a pole ($f_{p} = \\frac{1}{2*\\pi*R_0*C_L}$)\n",
    "\n",
    "Interaction with $R_{iso}$ adds a zero, so ideally $R_{iso}$ - $C_{L}$-pole must be set below unity-gain bandiwdth.\n",
    "\n",
    "### Current limiting\n",
    "\n",
    "Basic check to be done to ensure the output current for the amplifier is not too high:\n",
    "\n",
    "$$I_{max} = V_{supply} / R_{series}$$\n",
    "\n",
    "### Tranmission line driving\n",
    "- Choose the R_out approximately equal to the transmission line impedance if driving a transmission line.\n",
    "\n",
    "## Resistance at V- to ground\n",
    "Sometimes a resistor to ground is added here. This creates a steady load for the OPAMP (1-2 mA depending on the output voltage), some opamps need this for stability purposes."
   ]
  },
  {
   "cell_type": "markdown",
   "id": "5d32e768",
   "metadata": {},
   "source": [
    "## Voltage reference creation\n",
    "\n",
    "The equation to be solved is:\n",
    "\n",
    "$$R2/(R1+R2) * 1.65 = 1.25$$\n",
    "\n",
    "So we solve to the ratio of R1/R2: \n",
    "\n",
    "$$1.65 / 1.25-1 = R1 / R2$$\n",
    "\n",
    "so R1/R2 = 0.32"
   ]
  },
  {
   "cell_type": "code",
   "execution_count": null,
   "id": "2d9e9357",
   "metadata": {},
   "outputs": [
    {
     "name": "stdout",
     "output_type": "stream",
     "text": [
      "r2/r1: 0.32\n",
      "R1 values [  1.47   1.59   1.75   2.12   2.56   3.12   3.75   4.69   5.62   6.25\n",
      "   6.88   7.5    8.44   9.38  10.31  11.25  12.19  14.69  15.59  15.94\n",
      "  17.5   19.38  21.25  23.44  25.62  28.44  31.25  37.5   40.62  46.88\n",
      "  62.5   68.75  75.    84.38  93.75 103.12 121.88 146.88 159.38 175.\n",
      " 212.5  234.38 256.25 312.5  468.75]\n",
      "R2 values [ 0.15  0.16  0.18  0.22  0.26  0.32  0.38  0.48  0.58  0.64  0.7   0.77\n",
      "  0.86  0.96  1.06  1.15  1.25  1.5   1.6   1.63  1.79  1.98  2.18  2.4\n",
      "  2.62  2.91  3.2   3.84  4.16  4.8   6.4   7.04  7.68  8.64  9.6  10.56\n",
      " 12.48 15.04 16.32 17.92 21.76 24.   26.24 32.   48.  ]\n",
      "Perfect r2 found: 7.5\n",
      "Perfect r1 found: 1.5\n",
      "Perfect r1 found: 2.4\n",
      "Perfect r2 found: 75.0\n",
      "Perfect r1 found: 24.0\n"
     ]
    }
   ],
   "source": [
    "import numpy as np\n",
    "\n",
    "resistor_array = np.array([0.470, 0.51, 0.56, 0.68, 0.82, 1, 1.2, 1.5, 1.8, 2, 2.2, 2.4, 2.7, 3, 3.3, 3.6, 3.9, 4.7, 4.99, 5.1, 5.6, 6.2, \n",
    "\t\t\t\t\t\t6.8, 7.5, 8.2, 9.1, 10, 12, 13, 15, 20, 22, 24, 27, 30, 33, 39, 47, 51, 56, 68, 75, 82, 100, 150])\n",
    "\n",
    "######### OPAMP INPUT\n",
    "v_target_ratio = 0.32 # R1/R2\n",
    "r2_target_arr = np.round(resistor_array / v_target_ratio, 2)\n",
    "r1_target_arr = np.round(resistor_array * v_target_ratio, 2)\n",
    "print(f\"r1/r2: {v_target_ratio}\")\n",
    "print(f\"R1 values {r1_target_arr}\")\n",
    "print(f\"R2 values {r2_target_arr}\")\n",
    "\n",
    "for r1, r2 in zip(r1_target_arr, r1_target_arr):\n",
    "\tif (r2 in resistor_array):\n",
    "\t\tprint(f\"Perfect r2 found: {r2}\")\n",
    "\tif (r1 in resistor_array):\n",
    "\t\tprint(f\"Perfect r1 found: {r1}\")\n",
    "# SOLUTION 1: R1=1.5 kOhm, R2=0.47 kOhm\n",
    "# SOLUTION 2: R1=4.7 kOhm, R2=1.5 kOhm"
   ]
  },
  {
   "cell_type": "markdown",
   "id": "97aef5dc",
   "metadata": {},
   "source": [
    "## Effect"
   ]
  },
  {
   "cell_type": "markdown",
   "id": "ec0b95e3",
   "metadata": {},
   "source": [
    "# Terminology\n",
    "## GBP vs Small Signal Gain\n",
    "### GBP\n",
    "GBP is simply the product of the amplifiers open loop gain and the frequency at which that gain rolls off.\n",
    "### Small Signal Gain\n",
    "The small-signal gain refers to the frequency at which the amplifiers gain drops to -3dB.\n"
   ]
  }
 ],
 "metadata": {
  "kernelspec": {
   "display_name": ".venv",
   "language": "python",
   "name": "python3"
  },
  "language_info": {
   "codemirror_mode": {
    "name": "ipython",
    "version": 3
   },
   "file_extension": ".py",
   "mimetype": "text/x-python",
   "name": "python",
   "nbconvert_exporter": "python",
   "pygments_lexer": "ipython3",
   "version": "3.12.3"
  }
 },
 "nbformat": 4,
 "nbformat_minor": 5
}
