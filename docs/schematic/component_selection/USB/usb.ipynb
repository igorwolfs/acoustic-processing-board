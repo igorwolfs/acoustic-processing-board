{
 "cells": [
  {
   "cell_type": "markdown",
   "id": "c6792abe",
   "metadata": {},
   "source": [
    "# USB Inrush Current limiting\n",
    "We have about 20 uF of capacitance at our input.\n",
    "In order to limit the inrush current.\n",
    "The USB power supply is considered an ideal voltage source.\n",
    "- max 10 uF for inrush current, we have about 20 uF\n",
    "- The DC resistance of the ferrite is about 0.04 - 0.05 DCR\n",
    "- Add a resistor just to be sure\n",
    "\n",
    "**Conclusion**\n",
    "I don't think the inrush current will be a big problem, however if it is we can always add a small resistor of about 1-2 ohms in series (0805 pad prepared here)"
   ]
  },
  {
   "cell_type": "code",
   "execution_count": null,
   "id": "6c5b7be2",
   "metadata": {},
   "outputs": [],
   "source": []
  },
  {
   "cell_type": "markdown",
   "id": "9bc4b850",
   "metadata": {},
   "source": [
    "# CC1/2 Voltage Supply detection"
   ]
  },
  {
   "cell_type": "markdown",
   "id": "d0e3d591",
   "metadata": {},
   "source": [
    "Goal here is to build 2 shmitt-triggers that will drive a LED depending on which CC1 is active and whether the CC1 voltage is above 0.4 Volts.\n",
    "So we need to the same shmitt triggers, each one with an input voltage coming from the CC1 pin which will indicate it's capabilities through the source resistance."
   ]
  },
  {
   "cell_type": "markdown",
   "id": "877f7e7d",
   "metadata": {},
   "source": [
    "- The cheaper / more common comparators haven an open-drain output.\n",
    "- They can thus only source current.\n",
    "\n",
    "We however definitely need one comparator that has a push-pull output in order to drive the switch, if we don't want to add any extra components (like transistors) to the output\n",
    "### the DIO2087x\n",
    "- Comes in an SOT-23-5 package (quite common for single-diode)\n",
    "\t- However doesn't seem to be able to sink / source enough current\n",
    "\t- No simulation option available\n",
    "\n",
    "Alternative:\n",
    "\n",
    "### COS3201\n",
    "Source and sinking current: 57 mA\n",
    "- Ioffset: 1-5 mV\n",
    "- Ibias: 1-10 pA\n",
    "- Ioffset: 1-10 pA"
   ]
  },
  {
   "cell_type": "markdown",
   "id": "6fb7f6d7",
   "metadata": {},
   "source": [
    "![](images/non_inverting_hist.png)\n",
    "\n",
    "### Purpose of R3\n",
    "Compensates for bias current and setting the reference voltage.\n",
    "\n",
    "- Opamps have a finite input resistance.\n",
    "- Bias current flows to the input and creates a voltage drop across R1 and R2.\n",
    "\t- This introduces an error making the hysteresis less accurate\n",
    "- The central solution to this is to make the non-inverting and inverting inputs have the same source impedance\n",
    "- Ideally: equivalent resistnace at the non-inverting input should match the resistance at the inverting input\n",
    "\n",
    "Thevenin resistance of reference voltage: \n",
    "- Rsource || Rsink (max: 5 kOhm || 51 kOhm = 4.55 kOhm), so the R1 has to be at least order of magnitude 10 of that to minimize interactions of schmitt trigger with source impedance of Vin\n",
    "\n",
    "Vref: 0.7 V, Relatively low impedance voltage divider can be chosen."
   ]
  },
  {
   "cell_type": "code",
   "execution_count": 61,
   "id": "dd240069",
   "metadata": {},
   "outputs": [
    {
     "name": "stdout",
     "output_type": "stream",
     "text": [
      "R3 = 7000.00 MOhm, chosen R3 = 2.00 MOhm\n",
      "Vthr: 0.85, Vthf: 0.6499999999999999, Hys: 0.20000000000000007\n",
      "R1: 80.00 kOhm, R2: 459.02 kOhm, R3: 2000.00 kOhm\n"
     ]
    }
   ],
   "source": [
    "Vref = 0.7 # V\n",
    "Vcc = 5 # V\n",
    "Ibias = 10e-12\n",
    "If = 10 * Ibias\n",
    "\n",
    "#### Chooose R3 \n",
    "# (Current through R3 should be > input bias current)\n",
    "R3_1 = Vref / If\n",
    "R3_2 = (Vcc - Vref) / If\n",
    "R3_min = min(R3_1, R3_2)\n",
    "R3_ch = 2e6\n",
    "\n",
    "print(f\"R3 = {R3_min*1e-6:.2f} MOhm, chosen R3 = {R3_ch*1e-6:.2f} MOhm\")\n",
    "\n",
    "#### Choose hysteresis band\n",
    "Vhb = 0.2 # V\n",
    "R1_ch = R3_ch * (Vhb / Vcc)\n",
    "\n",
    "#### Choose trip point for Vin\n",
    "Vthr = 0.85 # V\n",
    "R2_ch = 1 / ((Vthr / (Vref * R1_ch)) - 1 / R1_ch - 1 / R3_ch)\n",
    "\n",
    "Vthr = Vref * R1_ch * (1/R1_ch + 1 / R2_ch + 1 / R3_ch)\n",
    "Vthf = Vthr - (R1_ch * Vcc) / R3_ch\n",
    "hyst = Vthr - Vthf\n",
    "print(f\"Vthr: {Vthr}, Vthf: {Vthf}, Hys: {hyst}\")\n",
    "print(f\"R1: {R1_ch*1e-3:.2f} kOhm, R2: {R2_ch*1e-3:.2f} kOhm, R3: {R3_ch*1e-3:.2f} kOhm\")"
   ]
  },
  {
   "cell_type": "markdown",
   "id": "30b2f718",
   "metadata": {},
   "source": [
    "### R3 Thoughts\n",
    "It seems like R3 is interfering more with the biasing network than actually solving Ibias issues.\n",
    "On top of that Ibias is not really that big of a problem, since it is barely a few pA.\n",
    "So let's simply use 2 bias resistors, and make the resistive divider from the CC-pins as small as possible, so it's source impedance is negligible compared to \n",
    "\n",
    "- https://www.ti.com/lit/ds/snos532o/snos532o.pdf?ts=1749333508860&ref_url=https%253A%252F%252Fwww.google.com%252F"
   ]
  },
  {
   "cell_type": "markdown",
   "id": "a6a6ce03",
   "metadata": {},
   "source": [
    "$$dV_{in} = V_{cc} * R1 / R2$$"
   ]
  },
  {
   "cell_type": "code",
   "execution_count": 114,
   "id": "bd010c85",
   "metadata": {},
   "outputs": [
    {
     "name": "stdout",
     "output_type": "stream",
     "text": [
      "R1: 120.00kOhm, R2: 2000.00kOhm\n",
      "Bounds: 0.55 V .. 0.85 V\n"
     ]
    }
   ],
   "source": [
    "Vref = 0.8 # V\n",
    "Vcc = 5 # V\n",
    "Ibias = 10e-12\n",
    "dVin = 0.3\n",
    "\n",
    "#### Choose hysteresis band\n",
    "R1_R2_ratio = dVin / Vcc\n",
    "R2 = 2e6 # 2 Mega-Ohms\n",
    "R1 = R2 *  R1_R2_ratio\n",
    "print(f\"R1: {R1*1e-3:.2f}kOhm, R2: {R2*1e-3:.2f}kOhm\")\n",
    "\n",
    "Vin1 = Vref * (R1+R2) / R2\n",
    "Vin2 =(Vref* (R1+R2) - Vcc * R1) / R2\n",
    "print(f\"Bounds: {Vin2:.2f} V .. {Vin1:.2f} V\")"
   ]
  },
  {
   "cell_type": "markdown",
   "id": "c36a3ae3",
   "metadata": {},
   "source": [
    "Simulate using the TS7211\n",
    "- Ibias: 1 pA normally (up to 300 pA)\n",
    "- Ioffset: 1 pA normally (up to 300 pA)\n",
    "- Vo max a few mV\n",
    "\n",
    "### Resistor choice\n",
    "Largest resistors:\n",
    "- 10 MOhm: C7250\n",
    "- 2 MOhm: C22976\n",
    "- 1 MOhm: C22935\n",
    "\n",
    "### Led choice\n",
    "Choose an LED: KT-0603R, KT-0805Y (the other ones have a voltage drop that varies too much up to 3 V)\n",
    "- Choose the defaults by JLCPCB\n",
    "\t- Default breakdown voltage of 5 V\n",
    "\t- Forward voltage drop of 2 V\n",
    "\n",
    "### Simulate relevant source impedances for signals\n",
    "\n",
    "#### Input signal\n",
    "- Voltage divider of (at worst) 5.1 kOhm and 51 kOhm for Vin\n",
    "- Vin should vary between\n",
    "\t- 0.45 V\n",
    "\t- 0.94 V\n",
    "\n",
    "And should saturate when reaching 0.85 V, the opposite should happen at 0.45 V\n",
    "\n",
    "#### Effect of additional source resistance\n",
    "- Additional source resistance for the signal adds onto the input resistance for the schmitt trigger.\n",
    "- This leads to the effective hysteresis voltage as seen by the source becoming larger (since dVin = R1/R2 * Vcc)\n",
    "\n",
    "#### Reference signal\n",
    "Should be 0.7 V for the CC-detection\n",
    "\n",
    "So in the voltage divider R2/(R1+R2) = Vref / Vcc\n",
    "So: Vcc / Vref - 1 = R1 / R2 = 5 / 0.7 - 1 = 6.143\n",
    "\n",
    "Choose resistors 6.2 kOhm and 1 kOhm (670 uA) for both inputs\n"
   ]
  },
  {
   "cell_type": "code",
   "execution_count": 111,
   "id": "b23b5093",
   "metadata": {},
   "outputs": [
    {
     "name": "stdout",
     "output_type": "stream",
     "text": [
      "Ratio: 5.25\n",
      "r1/r2: 5.25\n",
      "R1 values [  2.47   2.68   2.94   3.57   4.3    5.25   6.3    7.88   9.45  10.5\n",
      "  11.55  12.6   14.18  15.75  17.32  18.9   20.47  24.68  26.2   26.78\n",
      "  29.4   32.55  35.7   39.38  43.05  47.78  52.5   63.    68.25  78.75\n",
      " 105.   115.5  126.   141.75 157.5  173.25 204.75 246.75 267.75 294.\n",
      " 357.   393.75 430.5  525.   787.5 ]\n",
      "R2 values [ 0.09  0.1   0.11  0.13  0.16  0.19  0.23  0.29  0.34  0.38  0.42  0.46\n",
      "  0.51  0.57  0.63  0.69  0.74  0.9   0.95  0.97  1.07  1.18  1.3   1.43\n",
      "  1.56  1.73  1.9   2.29  2.48  2.86  3.81  4.19  4.57  5.14  5.71  6.29\n",
      "  7.43  8.95  9.71 10.67 12.95 14.29 15.62 19.05 28.57]\n"
     ]
    }
   ],
   "source": [
    "Vcc = 5\n",
    "Vref = 0.8\n",
    "R1_R2_ratio = Vcc / Vref - 1\n",
    "print(f\"Ratio: {R1_R2_ratio}\")\n",
    "\n",
    "import numpy as np\n",
    "\n",
    "resistor_array = np.array([0.470, 0.51, 0.56, 0.68, 0.82, 1, 1.2, 1.5, 1.8, 2, 2.2, 2.4, 2.7, 3, 3.3, 3.6, 3.9, 4.7, 4.99, 5.1, 5.6, 6.2, \n",
    "\t\t\t\t\t\t6.8, 7.5, 8.2, 9.1, 10, 12, 13, 15, 20, 22, 24, 27, 30, 33, 39, 47, 51, 56, 68, 75, 82, 100, 150])\n",
    "\n",
    "######### OPAMP INPUT\n",
    "v_target_ratio = R1_R2_ratio # R1/R2\n",
    "r2_target_arr = np.round(resistor_array / v_target_ratio, 2)\n",
    "r1_target_arr = np.round(resistor_array * v_target_ratio, 2)\n",
    "print(f\"r1/r2: {v_target_ratio}\")\n",
    "print(f\"R1 values {r1_target_arr}\")\n",
    "print(f\"R2 values {r2_target_arr}\")\n",
    "\n",
    "for r1, r2 in zip(r1_target_arr, r1_target_arr):\n",
    "\tif (r2 in resistor_array):\n",
    "\t\tprint(f\"Perfect r2 found: {r2}\")\n",
    "\tif (r1 in resistor_array):\n",
    "\t\tprint(f\"Perfect r1 found: {r1}\")\n",
    "# Choose 6.2 kOhm R1, 1.2 kOhm R2"
   ]
  },
  {
   "cell_type": "code",
   "execution_count": 113,
   "id": "c4e6601b",
   "metadata": {},
   "outputs": [
    {
     "name": "stdout",
     "output_type": "stream",
     "text": [
      "Bounds: 0.59 V .. 0.84 V\n"
     ]
    }
   ],
   "source": [
    "R1_chosen = 100e3\n",
    "R2_chosen = 2e6\n",
    "Vin1 = Vref * (R1_chosen+R2_chosen) / R2_chosen\n",
    "Vin2 = (Vref*(R1_chosen+R2_chosen) - Vcc * R1_chosen) / R2_chosen\n",
    "print(f\"Bounds: {Vin2:.2f} V .. {Vin1:.2f} V\")"
   ]
  },
  {
   "cell_type": "markdown",
   "id": "ec9c1763",
   "metadata": {},
   "source": [
    "# Comparator for analog USB switching purposes"
   ]
  },
  {
   "cell_type": "markdown",
   "id": "f0948e05",
   "metadata": {},
   "source": [
    "- Hysteresis must be 0.2 V\n"
   ]
  },
  {
   "cell_type": "code",
   "execution_count": 117,
   "id": "8a473d6d",
   "metadata": {},
   "outputs": [
    {
     "name": "stdout",
     "output_type": "stream",
     "text": [
      "R1_R2_ratio: 0.04\n",
      "R1: 40.00kOhm, R2: 1000.00kOhm\n",
      "Vref: 0.28846153846153844\n",
      "Bounds: 0.10 V .. 0.30 V\n"
     ]
    }
   ],
   "source": [
    "Vcc = 5 # V\n",
    "Ibias = 10e-12\n",
    "dVin = 0.2\n",
    "Vth_high = 0.3\n",
    "\n",
    "#### Choose hysteresis band\n",
    "R1_R2_ratio = dVin / Vcc\n",
    "print(f\"R1_R2_ratio: {R1_R2_ratio}\")\n",
    "R2 = 1e6 # 2 Mega-Ohms\n",
    "R1 = R2 *  R1_R2_ratio\n",
    "print(f\"R1: {R1*1e-3:.2f}kOhm, R2: {R2*1e-3:.2f}kOhm\")\n",
    "\n",
    "Vref = Vth_high / (1 + R1_R2_ratio)\n",
    "print(f\"Vref: {Vref}\")\n",
    "Vth_low = (Vref*(R1+R2) - Vcc * R1) / R2\n",
    "print(f\"Bounds: {Vth_low:.2f} V .. {Vth_high:.2f} V\")"
   ]
  },
  {
   "cell_type": "markdown",
   "id": "bd20849d",
   "metadata": {},
   "source": [
    "## Getting Vref: 0.288 V"
   ]
  },
  {
   "cell_type": "code",
   "execution_count": 116,
   "id": "eab48024",
   "metadata": {},
   "outputs": [
    {
     "name": "stdout",
     "output_type": "stream",
     "text": [
      "Ratio: 16.36111111111111\n",
      "r1/r2: 16.36111111111111\n",
      "R1 values [   7.69    8.34    9.16   11.13   13.42   16.36   19.63   24.54   29.45\n",
      "   32.72   35.99   39.27   44.18   49.08   53.99   58.9    63.81   76.9\n",
      "   81.64   83.44   91.62  101.44  111.26  122.71  134.16  148.89  163.61\n",
      "  196.33  212.69  245.42  327.22  359.94  392.67  441.75  490.83  539.92\n",
      "  638.08  768.97  834.42  916.22 1112.56 1227.08 1341.61 1636.11 2454.17]\n",
      "R2 values [0.03 0.03 0.03 0.04 0.05 0.06 0.07 0.09 0.11 0.12 0.13 0.15 0.17 0.18\n",
      " 0.2  0.22 0.24 0.29 0.3  0.31 0.34 0.38 0.42 0.46 0.5  0.56 0.61 0.73\n",
      " 0.79 0.92 1.22 1.34 1.47 1.65 1.83 2.02 2.38 2.87 3.12 3.42 4.16 4.58\n",
      " 5.01 6.11 9.17]\n"
     ]
    }
   ],
   "source": [
    "Vcc = 5\n",
    "Vref = 0.288\n",
    "R1_R2_ratio = Vcc / Vref - 1\n",
    "print(f\"Ratio: {R1_R2_ratio}\")\n",
    "\n",
    "import numpy as np\n",
    "\n",
    "resistor_array = np.array([0.470, 0.51, 0.56, 0.68, 0.82, 1, 1.2, 1.5, 1.8, 2, 2.2, 2.4, 2.7, 3, 3.3, 3.6, 3.9, 4.7, 4.99, 5.1, 5.6, 6.2, \n",
    "\t\t\t\t\t\t6.8, 7.5, 8.2, 9.1, 10, 12, 13, 15, 20, 22, 24, 27, 30, 33, 39, 47, 51, 56, 68, 75, 82, 100, 150])\n",
    "\n",
    "######### OPAMP INPUT\n",
    "v_target_ratio = R1_R2_ratio # R1/R2\n",
    "r2_target_arr = np.round(resistor_array / v_target_ratio, 2)\n",
    "r1_target_arr = np.round(resistor_array * v_target_ratio, 2)\n",
    "print(f\"r1/r2: {v_target_ratio}\")\n",
    "print(f\"R1 values {r1_target_arr}\")\n",
    "print(f\"R2 values {r2_target_arr}\")\n",
    "\n",
    "for r1, r2 in zip(r1_target_arr, r1_target_arr):\n",
    "\tif (r2 in resistor_array):\n",
    "\t\tprint(f\"Perfect r2 found: {r2}\")\n",
    "\tif (r1 in resistor_array):\n",
    "\t\tprint(f\"Perfect r1 found: {r1}\")\n",
    "# Choose R1 = 9.1 kOhm, R2 = 560 Ohm"
   ]
  },
  {
   "cell_type": "markdown",
   "id": "e3304a05",
   "metadata": {},
   "source": [
    "## Schmit trigger load impedance\n",
    "![](images/schmitt_trigger.webp)"
   ]
  },
  {
   "cell_type": "markdown",
   "id": "5eea6ebd",
   "metadata": {},
   "source": [
    "So there's 2 options\n",
    "1. Vout is HIGH (5 V)\n",
    "2. Vout is low (ground)\n",
    "\n",
    "## Lowest impedance\n",
    "Lowest impedance = critical point, load impedance is low and cc voltage rissk dropping too low.\n",
    "\n",
    "### Kirchoff\n",
    "- Vout = 0 V\n",
    "- Vin: input terminal voltage\n",
    "- (Vin - Vout) / (R1+R2) = Iin (assume no current goes into the + terminal)\n",
    "\t- Impedance is thus R1 + R2 approximately.\n",
    "\n",
    "\n",
    "## Negative impedance\n",
    "Negative impedance: cc voltage risks becoming too high due to additional voltage drop from current.\n",
    "- Vout = 5 V\n",
    "- Vin: input terminal voltage (0.94 V, 1.69 V)\n",
    "- Calculate current flowing to source, given Rs is 22 kOhm // 5.1 kOhm = 4.1 kOhm\n",
    "\t- (0.94 - 5) / (R1 + R2 + Rs) = 3.85 uA\n",
    "- Calculate current flowing to source, given Rs is 10 kOhm // 5.1 kOhm = 3.38kOhm\n",
    "\t- (1.69 - 5) / (R1 + R2 + Rs) = 3.85 uA\n",
    "\t- Voltage drop over a 5.1 kOhm resistor becomes: 20 mV -> Which is quite a big voltage drop, (difference between 1.69 and 1.67) -> 1.1 %\n",
    "\n",
    "\n",
    "## Better option\n",
    "- Use a single buffer to buffer the usb_cc_vref voltage\n",
    "- Apply the voltages USB_CC1 and USB_CC2 to the inverting terminals\n",
    "\n",
    "This way you only need a SINGLE buffer (for your reference voltage) and the CC-voltages simply see the high impedance non-inverting input.\n",
    "\n",
    "2 Options:\n",
    "- Vout: 5 V (Vcc)\n",
    "\t- non-inverting input (assume Rs = 0): \n",
    "\t\t- (Vref - 5) / (R2 + R1) = IR1\n",
    "\t\t- Vref - IR1 * R1 = V+ \n",
    "\t\t\t- [IR1 < 0 => V+ is large]\n",
    "\t\t- When V+ > Vin: output is 5 V (Vcc)\n",
    " - Vout: 0 V (GND)\n",
    "\t- non-inverting input (assume Rs = 0):\n",
    "\t\t- Vref / (R2+R1) = IR1\n",
    "\t\t- Vref - IR1 * R1 = V+\n",
    "\t\t\t- [IR1 > 0 => V+ is small]\n",
    "\t\t- When V+ < Vin: output is 0 (GND)"
   ]
  }
 ],
 "metadata": {
  "kernelspec": {
   "display_name": ".venv",
   "language": "python",
   "name": "python3"
  },
  "language_info": {
   "codemirror_mode": {
    "name": "ipython",
    "version": 3
   },
   "file_extension": ".py",
   "mimetype": "text/x-python",
   "name": "python",
   "nbconvert_exporter": "python",
   "pygments_lexer": "ipython3",
   "version": "3.12.3"
  }
 },
 "nbformat": 4,
 "nbformat_minor": 5
}
