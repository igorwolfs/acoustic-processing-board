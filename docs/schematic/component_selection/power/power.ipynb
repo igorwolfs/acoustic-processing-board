{
 "cells": [
  {
   "cell_type": "markdown",
   "id": "6fa6ad10",
   "metadata": {},
   "source": [
    "# Voltage requirements\n",
    "- 2.5 V: auxiliary power supply\n",
    "- 1.275 V: bank voltage supply (depending on bank voltage level)\n",
    "\t- e.g.: for DDR3L\n",
    "- 3.3 V: Vcc / Vcca analog voltage supply / Core voltage supply"
   ]
  },
  {
   "cell_type": "markdown",
   "id": "00a23a05",
   "metadata": {},
   "source": [
    "# DC-DC converter\n",
    "Choice: TLV62569DRL, similar to ButterStick, with slightly different \n",
    "- capacitor values\n",
    "- resistor values\n",
    "- inductor values"
   ]
  },
  {
   "cell_type": "markdown",
   "id": "a9e1da51",
   "metadata": {},
   "source": [
    "## Feedback Resistors"
   ]
  },
  {
   "cell_type": "markdown",
   "id": "6f234a93",
   "metadata": {},
   "source": [
    "Common values for resistors <= 100 k\n",
    "- 10k, 12k, 15k, 18k, 20k, 22k, 24k, 27k, 30k, 33k, 39k, 47k, 51k, 56k, 68k, 75k, 82k, 100k"
   ]
  },
  {
   "cell_type": "code",
   "execution_count": 1,
   "id": "d3cd72fa",
   "metadata": {},
   "outputs": [
    {
     "name": "stdout",
     "output_type": "stream",
     "text": [
      "---- V = 1.35 ----\n",
      "1.35 r1/r2: 1.2500000000000004\n",
      "R2 values [  0.38   0.41   0.45   0.54   0.66   0.8    0.96   1.2    1.44   1.6\n",
      "   1.76   1.92   2.16   2.4    2.64   2.88   3.12   3.76   3.99   4.08\n",
      "   4.48   4.96   5.44   6.     6.56   7.28   8.     9.6   10.4   12.\n",
      "  16.    17.6   19.2   21.6   24.    26.4   31.2   37.6   40.8   44.8\n",
      "  54.4   60.    65.6   80.   120.  ]\n",
      "R1 values [  0.59   0.64   0.7    0.85   1.03   1.25   1.5    1.88   2.25   2.5\n",
      "   2.75   3.     3.38   3.75   4.13   4.5    4.88   5.88   6.24   6.38\n",
      "   7.     7.75   8.5    9.38  10.25  11.38  12.5   15.    16.25  18.75\n",
      "  25.    27.5   30.    33.75  37.5   41.25  48.75  58.75  63.75  70.\n",
      "  85.    93.75 102.5  125.   187.5 ]\n",
      "Perfect r1 found: 1.5\n",
      "Perfect r2 found: 1.2\n",
      "Perfect r1 found: 3.0\n",
      "Perfect r2 found: 2.4\n",
      "Perfect r1 found: 15.0\n",
      "Perfect r2 found: 12.0\n",
      "Perfect r1 found: 30.0\n",
      "Perfect r2 found: 24.0\n",
      "offset: -0.00%\n",
      "---- V = 2.5 ----\n",
      "2.5 r1/r2: 3.166666666666667\n",
      "R2 values [ 0.15  0.16  0.18  0.21  0.26  0.32  0.38  0.47  0.57  0.63  0.69  0.76\n",
      "  0.85  0.95  1.04  1.14  1.23  1.48  1.58  1.61  1.77  1.96  2.15  2.37\n",
      "  2.59  2.87  3.16  3.79  4.11  4.74  6.32  6.95  7.58  8.53  9.47 10.42\n",
      " 12.32 14.84 16.11 17.68 21.47 23.68 25.89 31.58 47.37]\n",
      "R1 values [  1.49   1.62   1.77   2.15   2.6    3.17   3.8    4.75   5.7    6.33\n",
      "   6.97   7.6    8.55   9.5   10.45  11.4   12.35  14.88  15.8   16.15\n",
      "  17.73  19.63  21.53  23.75  25.97  28.82  31.67  38.    41.17  47.5\n",
      "  63.33  69.67  76.    85.5   95.   104.5  123.5  148.83 161.5  177.33\n",
      " 215.33 237.5  259.67 316.67 475.  ]\n",
      "Perfect r2 found: 0.47\n",
      "offset: -1.00%\n",
      "---- V = 3.3 ----\n",
      "3.3 r1/r2: 4.5\n",
      "R2 values [ 0.1   0.11  0.12  0.15  0.18  0.22  0.27  0.33  0.4   0.44  0.49  0.53\n",
      "  0.6   0.67  0.73  0.8   0.87  1.04  1.11  1.13  1.24  1.38  1.51  1.67\n",
      "  1.82  2.02  2.22  2.67  2.89  3.33  4.44  4.89  5.33  6.    6.67  7.33\n",
      "  8.67 10.44 11.33 12.44 15.11 16.67 18.22 22.22 33.33]\n",
      "R1 values [  2.11   2.3    2.52   3.06   3.69   4.5    5.4    6.75   8.1    9.\n",
      "   9.9   10.8   12.15  13.5   14.85  16.2   17.55  21.15  22.46  22.95\n",
      "  25.2   27.9   30.6   33.75  36.9   40.95  45.    54.    58.5   67.5\n",
      "  90.    99.   108.   121.5  135.   148.5  175.5  211.5  229.5  252.\n",
      " 306.   337.5  369.   450.   675.  ]\n",
      "offset: 0.83%\n"
     ]
    }
   ],
   "source": [
    "import numpy as np\n",
    "\n",
    "def get_resistor_ratio(v_out):\n",
    "\treturn ((v_out / 0.6) - 1)\n",
    "\n",
    "resistor_array = np.array([0.470, 0.51, 0.56, 0.68, 0.82, 1, 1.2, 1.5, 1.8, 2, 2.2, 2.4, 2.7, 3, 3.3, 3.6, 3.9, 4.7, 4.99, 5.1, 5.6, 6.2, \n",
    "\t\t\t\t\t\t6.8, 7.5, 8.2, 9.1, 10, 12, 13, 15, 20, 22, 24, 27, 30, 33, 39, 47, 51, 56, 68, 75, 82, 100, 150])\n",
    "vdd_targets = np.array([1.35, 2.5, 3.3])\n",
    "r1_arr = [30, 75, 100]\n",
    "r2_arr = [24, 24, 22]\n",
    "\n",
    "######### DDR3L\n",
    "for idx, v_target in enumerate(vdd_targets):\n",
    "\tprint(f\"---- V = {v_target} ----\")\n",
    "\tv_target_ratio = get_resistor_ratio(v_target)\n",
    "\tr2_target_arr = np.round(resistor_array / v_target_ratio, 2)\n",
    "\tr1_target_arr = np.round(resistor_array * v_target_ratio, 2)\n",
    "\tprint(f\"{v_target} r1/r2: {v_target_ratio}\")\n",
    "\tprint(f\"R2 values {r2_target_arr}\")\n",
    "\tprint(f\"R1 values {r1_target_arr}\")\n",
    "\n",
    "\tfor r1, r2 in zip(r1_target_arr, r2_target_arr):\n",
    "\t\tif (r1 in resistor_array):\n",
    "\t\t\tprint(f\"Perfect r1 found: {r1}\")\n",
    "\t\tif (r2 in resistor_array):\n",
    "\t\t\tprint(f\"Perfect r2 found: {r2}\")\n",
    "\n",
    "\tr1 = r1_arr[idx]\n",
    "\tr2 = r2_arr[idx]\n",
    "\tvout_actual = 0.6*(1+r1/r2)\n",
    "\tprint(f\"offset: {((vout_actual - v_target) / v_target) * 100:.2f}%\")"
   ]
  },
  {
   "cell_type": "markdown",
   "id": "86d3fc42",
   "metadata": {},
   "source": [
    "# DDR3L-power and reference\n",
    "Use NCP51200\n",
    "\n",
    "## Electrical characteristics\n",
    "- Max input voltage: 6 V\n",
    "\n",
    "## Pins\n",
    "### REFIN\n",
    "- Reference input (so feedback should be added here)\n",
    "\n",
    "## Issue\n",
    "- No example schematics so not sure \n",
    "\n",
    "## Solution\n",
    "Use the TLVx333 precision amplifier\n",
    "- input between 1.8 to 5.5 V\n",
    "- Ouput offset voltage: 2 uV\n",
    "\n",
    "### Electrical characteristics\n",
    "- Output current: +5 mA MAX"
   ]
  },
  {
   "cell_type": "markdown",
   "id": "695e0814",
   "metadata": {},
   "source": [
    "# Biasing voltage\n",
    "- Use the LMV321 voltage for offsets"
   ]
  },
  {
   "cell_type": "markdown",
   "id": "abcd9a6b",
   "metadata": {},
   "source": [
    "# Power switch"
   ]
  },
  {
   "cell_type": "markdown",
   "id": "872dff6b",
   "metadata": {},
   "source": [
    "## Features\n",
    "- Inrush current limit\n",
    "- A 4 amp max current limit\n",
    "\n",
    "## Goal\n",
    "- The power should be supplied from either of the 2 sources.\n",
    "- The power MAY NOT turn off when adding a new power source."
   ]
  },
  {
   "cell_type": "markdown",
   "id": "b1749a85",
   "metadata": {},
   "source": [
    "Use the TPS2121 (seamless switchover)\n",
    "- So no issues when disconnecting USB and switching to battery power"
   ]
  },
  {
   "cell_type": "markdown",
   "id": "24442be9",
   "metadata": {},
   "source": [
    "### Pins\n",
    "#### Power input\n",
    "- IN1, IN2: input power pins\n",
    "\t- Note input pin capacitance\n",
    "\t- USB-filtering might be required\n",
    "- Input capacitance?\n",
    "\n",
    "\n",
    "#### Status output\n",
    "- Led required here"
   ]
  },
  {
   "cell_type": "markdown",
   "id": "047fc82a",
   "metadata": {},
   "source": []
  },
  {
   "cell_type": "markdown",
   "id": "92a41675",
   "metadata": {},
   "source": [
    "# Power sequence\n",
    "\n",
    "$$t_{delay} = R*C*ln (\\frac{V_l}{V_l - V_{TH;EN}})$$"
   ]
  },
  {
   "cell_type": "markdown",
   "id": "0a05a219",
   "metadata": {},
   "source": [
    "Goal\n",
    "- Aim for a resistor current of at least 1 uA. Use $\\frac{V__{i} - V_{thr;en}}{100 * I_{IKG}}$\n"
   ]
  },
  {
   "cell_type": "code",
   "execution_count": 13,
   "id": "cd022bec",
   "metadata": {},
   "outputs": [
    {
     "name": "stdout",
     "output_type": "stream",
     "text": [
      "R_max: 4049.9999999999995\n",
      "C: 0.11717557507444319 uF\n"
     ]
    }
   ],
   "source": [
    "import math\n",
    "V_high = 0.95\n",
    "V_low = 0.4\n",
    "V_in = 5\n",
    "\n",
    "R_max = (V_in - V_high) / (100 * 0.01e-3)\n",
    "print(f\"R_max: {R_max}\")\n",
    "\n",
    "R_chosen = 1e3\n",
    "\n",
    "t_d = 1e-4\n",
    "C = (t_d / R_max) / math.log(V_in / (V_in - V_high))\n",
    "print(f\"C: {C*1e6} uF\")"
   ]
  },
  {
   "cell_type": "markdown",
   "id": "1dff88f5",
   "metadata": {},
   "source": []
  }
 ],
 "metadata": {
  "kernelspec": {
   "display_name": ".venv",
   "language": "python",
   "name": "python3"
  },
  "language_info": {
   "codemirror_mode": {
    "name": "ipython",
    "version": 3
   },
   "file_extension": ".py",
   "mimetype": "text/x-python",
   "name": "python",
   "nbconvert_exporter": "python",
   "pygments_lexer": "ipython3",
   "version": "3.12.3"
  }
 },
 "nbformat": 4,
 "nbformat_minor": 5
}
