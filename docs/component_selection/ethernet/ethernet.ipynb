{
 "cells": [
  {
   "cell_type": "markdown",
   "id": "2c2cce09",
   "metadata": {},
   "source": [
    "# Power"
   ]
  },
  {
   "cell_type": "markdown",
   "id": "e1ba2533",
   "metadata": {},
   "source": [
    "## Power pins\n",
    "- AVDDH(3.3 / 2.5 V) [2 x pins]\n",
    "- AVDDL (1.2 V) [2 x pins]\n",
    "- DVDLL (1.2 V) [VDD] [4 x pins]\n",
    "- DVDDH (3.3, 2.5 or 1.8 V) [VDD] [2 x pins]\n",
    "- VSS (GND)\n",
    "- LDO_O (Contains control to drive FET for 1.2 V output)\n",
    "\t- Leave unused, use your own 1.2 V supply\n",
    "- AVDD_PL (1.2 V for PLL)"
   ]
  },
  {
   "cell_type": "markdown",
   "id": "c1c3ed23",
   "metadata": {},
   "source": [
    "### 1.2 V power supply\n",
    "- Add an extra buck converter generating 1.2 V"
   ]
  },
  {
   "cell_type": "code",
   "execution_count": 2,
   "id": "42258c2b",
   "metadata": {},
   "outputs": [
    {
     "name": "stdout",
     "output_type": "stream",
     "text": [
      "---- V = 1.2 ----\n",
      "1.2 r1/r2: 1.0\n",
      "R2 values [ 20.  22.  24.  27.  30.  33.  39.  47.  51.  56.  68.  75.  82. 100.\n",
      " 150.]\n",
      "R1 values [ 20.  22.  24.  27.  30.  33.  39.  47.  51.  56.  68.  75.  82. 100.\n",
      " 150.]\n"
     ]
    }
   ],
   "source": [
    "import numpy as np\n",
    "\n",
    "def get_resistor_ratio(v_out):\n",
    "\treturn ((v_out / 0.6) - 1)\n",
    "\n",
    "resistor_array = np.array([20, 22, 24, 27, 30, 33, 39, 47, 51, 56, 68, 75, 82, 100, 150])\n",
    "vdd_targets = np.array([1.2])\n",
    "# r1_arr = [30, 75, 100]\n",
    "# r2_arr = [24, 24, 22]\n",
    "\n",
    "######### DDR3L\n",
    "for idx, v_target in enumerate(vdd_targets):\n",
    "\tprint(f\"---- V = {v_target} ----\")\n",
    "\tv_target_ratio = get_resistor_ratio(v_target)\n",
    "\tr2_target_arr = np.round(resistor_array / v_target_ratio, 2)\n",
    "\tr1_target_arr = np.round(resistor_array * v_target_ratio, 2)\n",
    "\tprint(f\"{v_target} r1/r2: {v_target_ratio}\")\n",
    "\tprint(f\"R2 values {r2_target_arr}\")\n",
    "\tprint(f\"R1 values {r1_target_arr}\")\n",
    "\n",
    "\t# for r1, r2 in zip(r1_target_arr, r2_target_arr):\n",
    "\t# \tif (r1 in resistor_array):\n",
    "\t# \t\tprint(f\"Perfect r1 found: {r1}\")\n",
    "\t# \tif (r2 in resistor_array):\n",
    "\t# \t\tprint(f\"Perfect r2 found: {r2}\")\n",
    "\n",
    "\t# r1 = r1_arr[idx]\n",
    "\t# r2 = r2_arr[idx]\n",
    "\t# vout_actual = 0.6*(1+r1/r2)\n",
    "\t# print(f\"offset: {((vout_actual - v_target) / v_target) * 100:.2f}%\")"
   ]
  },
  {
   "cell_type": "markdown",
   "id": "ffec5493",
   "metadata": {},
   "source": [
    "**Chose 2 x 100 kOhm**"
   ]
  },
  {
   "cell_type": "markdown",
   "id": "b5272542",
   "metadata": {},
   "source": [
    "## Decoupling capacitors / Ferrites"
   ]
  },
  {
   "cell_type": "markdown",
   "id": "9e8864d9",
   "metadata": {},
   "source": [
    "Reference: Check page 9, ANLAN206 – KSZ9031 G"
   ]
  },
  {
   "cell_type": "markdown",
   "id": "067655cf",
   "metadata": {},
   "source": [
    "- Ferrites: \n",
    "\t- < 0.1 ohms in DC Resistance\n",
    "\t- 60 ohm impedance at 100 MHz\n",
    "\t- example: MPZ1005S600C\n",
    "- Capacitors\n",
    "\t- X7R / X5R\n",
    "\t- Mostly HF decoupling (Do bulk at source)\n",
    "\n",
    "### AVDD_PLL (1.2 V)\n",
    "- Ferrite\n",
    "- 10 uF bulk\n",
    "- 100 nF decoupling\n",
    "\n",
    "### AVDDL (1.2)\n",
    "- Ferrite\n",
    "- 10 uF bulk\n",
    "- 100 nF per pin\n",
    "\n",
    "\n",
    "### AVDDH (3.3 V)\n",
    "- Ferrite\n",
    "- 10 uF X5R bulk capacitance\n",
    "- 1 uF X7R bulk capacitance\n",
    "- 0.1 uF decoupling per pin\n",
    "\n",
    "### DVDDL (1.2 V)\n",
    "- 100 nF decoupling on each pin\n",
    "- Bulk capacitance close enough (10 uF)\n",
    "\n",
    "### DVDDH (3.3 V)\n",
    "- 100 nF per pin\n",
    "- 10 uF bulk"
   ]
  },
  {
   "cell_type": "markdown",
   "id": "05f06532",
   "metadata": {},
   "source": [
    "## Notes\n",
    "### Filtering with ferrites vs filtering with inductors\n",
    "Ferrites\n",
    "- Poorly characterized\n",
    "- Dissipate resistively (also at DC!)\n",
    "- Cheap\n",
    "- Don't resonate\n",
    "\n",
    "Inductors\n",
    "- Well-characterized (up to a certain frequency)\n",
    "\t- 20 dB/dec drop, sharp resonance-filters possible here.\n",
    "- Impedance peak: $f_{0}=\\frac{1}{\\sqrt{2*\\pi*L*C}}$"
   ]
  },
  {
   "cell_type": "markdown",
   "id": "ecb805dd",
   "metadata": {},
   "source": [
    "# Transmit / Receive signals RGMMI\n",
    "- Use Bank 1 for these signals\n",
    "- We don't need any DQS groups for a RGMII interface\n",
    "\t- Rise/Fall/Delay time of a regular FPGA PIO:\n",
    "\t\t- LVCMOS33 has a max output frequency of 150 MHz\n",
    "### Q: Ethernet speed\n",
    "**How can the ethernet PHY transfer up to GB/s with 2 RX and TX data-lines, when there's 4 RX and TX data-lines to the FPGA? What are acceptable speeds on the FPGA-side?**\n",
    "\n",
    "- Clock period for 1000BASE-T: 7.2-8.8 ns: 125 MHz\n",
    "- Clock period for 100BASE-TX: 36-44 ns: 25 MHz\n",
    "- Clock period for 10BASE-T: 360-440 ns: 2.5 MHz\n",
    "\n",
    "So these are the clock and data-speeds for these signals.\n",
    "\n",
    "Allowed skew (data sampled at clock posedge):\n",
    "- -0.5 .. .5 ns for RGMII v1.3 transmitter pins\n",
    "- 1.2-2.0 ns for RGMII V1.3 receiver pins"
   ]
  },
  {
   "cell_type": "markdown",
   "id": "88e03e60",
   "metadata": {},
   "source": [
    "## Transmit / Receive\n",
    "- TXDi\n",
    "- RXDi\n",
    "### RXDi latching\n",
    "- RXDi, RX_CLK, RX_DV\n",
    "Pull-ups, pull-downs are latched to select the relevant mode during power-on / RESET\n",
    "\n",
    "#### Mode options\n",
    "The pull-ups and pull-downs determine what capabilities are being advertised.\n",
    "- On power-up it sends IEEE-802..3 auto-negotiation pulses (FLP) on the copper pairs.\n",
    "\n",
    "Mode[3:0] - RX[3:0]\n",
    "- ALL_HIGH: RGMII mode - Advertise all capabilities (10/100/1000 speed half-/full-duplex)\n",
    "-> SO we need to tigh them high\n",
    "\n",
    "#### RX_DV / CLK125_EN\n",
    "- CLK125_EN\n",
    " Pull-up: enables the 125 MHz clock output on pin 41\n",
    "- RX_CTL is a receive control output -> so used in receive communication.\n",
    "Both RX_CTL and TX_CTL-like signals indicate validity of a frame / data transmitted."
   ]
  },
  {
   "cell_type": "markdown",
   "id": "d57d5913",
   "metadata": {},
   "source": [
    "# Clock"
   ]
  },
  {
   "cell_type": "markdown",
   "id": "64d95e19",
   "metadata": {},
   "source": [
    "- XO/XI (clock input / output with crystal feedback)\n",
    "- Injecting the PLL-generated signal from the PHY-chip into the FPGA\n",
    "- MDIO / MDC management\n",
    "\n",
    "### MDIO / MDC\n",
    "- Management Data Clock Input\n",
    "- Management data input / Output\n",
    "\t- Pull-up (1-4.7 kOhms to VDD_IO)\n",
    "### XO/XI\n",
    "CRYSTAL REQUIREMENTS:\n",
    "- Choose a 25 MHz crystal\n",
    "- 25 MHz +- 50 ppm tolerance\n",
    "- Series resistance (40 ohms)\n",
    "- Jitter (< 100 ps)\n",
    "- XO: feedback, XI: input\n",
    "\n",
    "#### Choice: X322525MOB4SI\n",
    "- 50 ohm ohms Max ESR\n",
    "- Shunt capacitance: 7 pF"
   ]
  },
  {
   "cell_type": "code",
   "execution_count": 4,
   "id": "ff42c985",
   "metadata": {},
   "outputs": [
    {
     "name": "stdout",
     "output_type": "stream",
     "text": [
      "Choose load capacitances: Cl1 10.000000000000002pF, Cl2 10.000000000000002pF\n",
      "Gain margin: (54.81798803364017 > 5) ? | g_m_crit: 0.00018242187206621478\n"
     ]
    }
   ],
   "source": [
    "import math\n",
    "### Example calculation: ABLS-8.000MHZ-20-B-3-H-T\n",
    "C_S = 7e-12 # Ethernet PHY datasheet\n",
    "C_L = 12e-12 # Input load capacitance (resonator datasheet)\n",
    "# Assume C_L1 = C_L2\n",
    "C_L1 = (C_L - C_S)*2\n",
    "C_L2 = C_L1\n",
    "print(f\"Choose load capacitances: Cl1 {C_L1*1e12}pF, Cl2 {C_L2*1e12}pF\")\n",
    "\n",
    "ESR = 50 # (resonator datasheet)\n",
    "F_OSCILLATOR = 8e6\n",
    "trancond = 10e-3 # in A / V, oscillator transconductance (assumed)\n",
    "# Assume C_L1 = C_L2\n",
    "g_m_crit = 4 * ESR * (2 * math.pi * F_OSCILLATOR) ** 2 * (C_S + C_L) **2\n",
    "GM = trancond / g_m_crit\n",
    "print(f\"Gain margin: ({GM} > 5) ? | g_m_crit: {g_m_crit}\")"
   ]
  },
  {
   "cell_type": "markdown",
   "id": "09b29b82",
   "metadata": {},
   "source": [
    "However: choose 22 pF anyways according to reference connection in datasheet"
   ]
  },
  {
   "cell_type": "markdown",
   "id": "9872d42e",
   "metadata": {},
   "source": [
    "### PLL generated signal injection\n",
    "#### CLK125_EN\n",
    "Inject into\n",
    "- PCLK (primary clock input for injection in primary network)\n",
    "- GPLL (general-purpose PLL input pin) - Used to drive a PLL from an external clock source\n",
    "\n",
    "Drive it into the GPLL-clock pin since we might need to derive \n",
    "\n",
    "#### LED MODE\n",
    "- Pull-up: single-LED mode\n",
    "- Pull-down: Tri-color dual-LED mode\n",
    "\n",
    "Added LED's, white and blue, with about 3 mA going through them."
   ]
  },
  {
   "cell_type": "markdown",
   "id": "230a8e8f",
   "metadata": {},
   "source": [
    "### Pin 38: INT_N / PME_N2\n",
    "2 pin functions:\n",
    "##### INT_N Output\n",
    "- Programmable interrupt output\n",
    "- When low asserted: WOL event occurred\n",
    "- Requires pull-up of 1kOhm-4.7 kOhm\n",
    "\n",
    "**Wake-On-LAN**\n",
    "- MAC-based function to wake-up a host system.\n",
    "- \n",
    "\n",
    "#### PME_N2 Output\n"
   ]
  },
  {
   "cell_type": "markdown",
   "id": "0adbbff1",
   "metadata": {},
   "source": [
    "# Transformer-Only operation"
   ]
  },
  {
   "cell_type": "markdown",
   "id": "0b66fc35",
   "metadata": {},
   "source": [
    "\n",
    "## Physical device network and signalling\n",
    "\n",
    "- Auto-MDIX: Autonegotiation happens at 10 Mb/s and 100 Mb/s operation.\n",
    "\t- at 50 ohms balanced loading: differential 2.5 V signals\n",
    "\t- 100 Mb/s: +1 V, -1 V, 0 V operation\n",
    "\t- 10 Mb/s: +2.5, -2.5 V differential signals\n",
    "- Transformers serve the purpose of isolating these differential voltages\n",
    "\t- IEEE 802.3 AC / DC isolation"
   ]
  },
  {
   "cell_type": "markdown",
   "id": "9a835de9",
   "metadata": {},
   "source": [
    "## Capacitor for isolation\n",
    "### Capacitor Requirements\n",
    "- Return loss must be > 16 dB\n",
    "- Impedance range: 100 +- 15 ohms\n",
    "- Nominally resistive phase angle < 3 degrees [2, 80 MHz]\n",
    "\n",
    "#### Acceptable capacitor value\n",
    "- The acceptable value is 30.42 nF (minimum), larger will improve the impedance  and decrease the phase shift for higher frequencies.\n",
    "\n",
    "#### Conclusion\n",
    "We want to use the same DC-blocking caps for the analog front-end, as we do for the ethernet communication.\n",
    "For that the uncertainty in capacitance can't lead to a phase-shift that is too big.\n",
    "\n",
    "In order to get to that point, we will have to buy caps that are X7R, but a bit larger, OR put 2 smaller C0G caps in parallel.\n",
    "- they don't form too big of an impedance at frequencies around 200 kHz, which is the minimum ADC measuring frequency\n",
    "- impedance around 2 MHz, which is the IEE-requirement.\n",
    "\n",
    "\n",
    "\n",
    "But for X7R I guess 100 kHz is still pretty ok in terms of frequency, and at higher frequency the offset is less of an issue."
   ]
  },
  {
   "cell_type": "markdown",
   "id": "03fbd503",
   "metadata": {},
   "source": [
    "## Magnetics for Isolation\n",
    "Given that \n",
    "- We'd have to buy capacitors and inductors from a third party with an S.R.F that is high enough.\n",
    "\t- Their capacitance needs to be above 40 nF for their phase / gain uncertainty with respect to each other to be minimal.\n",
    "\t- We could get caps with an S.R.F. higher than 100 MHz but we'd probably have to start soldering on our own and buying them from third parties\n",
    "- With a low S.R.F. the capacitance might actually start behaving as an inductance.\n",
    "\n",
    "### LED termination\n",
    "- 11->12 Green LED\n",
    "- 14->13 Yellow LED (in reality unnecessary)\n",
    "### Magnetics termination\n",
    "- P10: 75 ohms to AC-gnd\n",
    "- P1: Transformer with center tap (to be connected to Vcc / 2)"
   ]
  },
  {
   "cell_type": "markdown",
   "id": "c54c04e1",
   "metadata": {},
   "source": [
    "### Bob-Smith termination\n",
    "- Reduces common mode currents as a consequence of coupling between different differential pairs.\n",
    "- There's thus a 75 ohm resistive connection to AC ground from each line (capacitive separation)\n",
    "- \n",
    "\n",
    "### Open-circuit inductance\n",
    "Inductance measured on each phase (1-2, 3-4, ..) with all other phases open."
   ]
  },
  {
   "cell_type": "markdown",
   "id": "59481e3a",
   "metadata": {},
   "source": [
    "### Example RJ45 with integrated magnetics\n",
    "- Insertion loss: -1.0 dB between 300 kHz and 100 MHz\n",
    "\n",
    "#### RJ45 C192706 (1.14 $)\n",
    "**CONSIDER USING THIS ONE FOR THE ADC INPUT**\n",
    "\n",
    "- Only 2 differential transformers connected\n",
    "\n",
    "![](images/rj45_100Mb.png)\n",
    "\n",
    "This connector has \n",
    "- J7, J8 and J5, J4 connected to ground.\n",
    "- 2 LED's connected\n",
    "\n",
    "This is a typical base-10, base-100 connection\n",
    "- Has a TX-pair and an RX-pair\n"
   ]
  },
  {
   "cell_type": "markdown",
   "id": "f35c3d14",
   "metadata": {},
   "source": [
    "\n",
    "#### RJ45 C50933 (2.47 $)\n",
    "![](images/rj45_1000Mb.png)\n",
    "\n",
    "- Typical insertion loss: 1.0 dB at 100 kHz - 60 MHz\n",
    "- Return loss typically about -18 dB"
   ]
  },
  {
   "cell_type": "markdown",
   "id": "12a2fe2d",
   "metadata": {},
   "source": [
    "### Separate magnetics\n",
    "#### Balun transformer C25503618\n",
    "Impedance issues:\n",
    "- RJ45-connector has a 100 ohms differential impedance.\n",
    "- Balun is made for single-ended 50-ohm signal transmission to 50 ohm differential signal.\n",
    "\n",
    "\n",
    "Insertion loss (S21 / S12):\n",
    "- 1 dB\n",
    "Input return loss (S11):\n",
    "- "
   ]
  },
  {
   "cell_type": "markdown",
   "id": "f41154ff",
   "metadata": {},
   "source": []
  }
 ],
 "metadata": {
  "kernelspec": {
   "display_name": ".venv",
   "language": "python",
   "name": "python3"
  },
  "language_info": {
   "codemirror_mode": {
    "name": "ipython",
    "version": 3
   },
   "file_extension": ".py",
   "mimetype": "text/x-python",
   "name": "python",
   "nbconvert_exporter": "python",
   "pygments_lexer": "ipython3",
   "version": "3.12.3"
  }
 },
 "nbformat": 4,
 "nbformat_minor": 5
}
