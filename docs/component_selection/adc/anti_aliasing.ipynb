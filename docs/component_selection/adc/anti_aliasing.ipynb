{
 "cells": [
  {
   "cell_type": "markdown",
   "id": "1589d789",
   "metadata": {},
   "source": [
    "# Anti-Aliasing Filter Design"
   ]
  },
  {
   "cell_type": "markdown",
   "id": "21793d30",
   "metadata": {},
   "source": [
    "# Single-ended output filter\n",
    "![](images/adc_rlc_filter.png)"
   ]
  },
  {
   "cell_type": "markdown",
   "id": "57dda5eb",
   "metadata": {},
   "source": [
    "Transfer function becomes: \n",
    "\n",
    "$$\n",
    "\\frac{V_O}{V_I}\n",
    "=\n",
    "\\frac{\\displaystyle \\frac{1}{L C}}\n",
    "     {s^2\n",
    "      + s\\Bigl(\\frac{1}{R_2 C} + \\frac{R_1}{L}\\Bigr)\n",
    "      + \\Bigl(1 + \\frac{R_1}{R_2}\\Bigr)\\frac{1}{L C}\n",
    "     }$$\n",
    "\n",
    "$$\n",
    "\\omega_O \\;=\\; \\sqrt{\\frac{1}{\\alpha\\,L\\,C}}\n",
    "$$\n",
    "\n",
    "$$\n",
    "Q \\;=\\;\n",
    "\\frac{\n",
    "  \\displaystyle \\sqrt{\\frac{1}{\\alpha\\,L\\,C}}\n",
    "}{\n",
    "  \\displaystyle \\frac{1}{\\alpha\\,R_T\\,C}\n",
    "  \\;+\\;\n",
    "  \\frac{R_T\\,(1 - \\alpha)}{L}\n",
    "}\n",
    "$$\n",
    "\n",
    "### R2\n",
    "- Additional tuning parameter (Q-factor)\n",
    "- DC bias current provision\n",
    "\n",
    "Choose R2 = 2k (larger than 100 to avoid messing too much with the differential impedance) (1/100 + 1/2000)^(-1) ~= 100"
   ]
  },
  {
   "cell_type": "code",
   "execution_count": 1,
   "id": "25185812",
   "metadata": {},
   "outputs": [
    {
     "name": "stdout",
     "output_type": "stream",
     "text": [
      "DC-Attenuation: 0.9975062344139651\n",
      "LC-product: 1.1286054066827067e-16\n",
      "L_filter: 30052.55 nH or 30090.11 nH\n",
      "C_filter: 3.75 pF\n"
     ]
    }
   ],
   "source": [
    "\n",
    "import math \n",
    "#! >>>> CHOICE\n",
    "R2_filter = 2e3\n",
    "R1_filter = 5\n",
    "w0 = 2*math.pi * 15e6\n",
    "#! <<<< CHOICE\n",
    "\n",
    "Rt = R1_filter + R2_filter\n",
    "a_atten = (R2_filter) / (R1_filter + R2_filter)\n",
    "Q_target = 0.707\n",
    "\n",
    "print(f\"DC-Attenuation: {a_atten}\")\n",
    "LC_product = (1 / (w0 * math.sqrt(a_atten)))**2\n",
    "print(f\"LC-product: {LC_product}\")\n",
    "L_filter = Rt / (2*w0*Q_target) * (1+math.sqrt(2*a_atten-1))\n",
    "L_filter_no_R2 = Rt / (w0 * Q_target)\n",
    "print(f\"L_filter: {L_filter*1e9:.2f} nH or {L_filter_no_R2*1e9:.2f} nH\")\n",
    "C_filter = (1 / (a_atten* L_filter_no_R2 * w0**2))\n",
    "print(f\"C_filter: {C_filter*1e12:.2f} pF\")"
   ]
  },
  {
   "cell_type": "markdown",
   "id": "9e5b5a40",
   "metadata": {},
   "source": [
    "### Thoughts on output filter design\n",
    "ADC's may have dynamic or static input stages, depending on the way they are designed. Static input stages are easier to design the external front-end for. Dynamic ones are much tougher.\n",
    "\n",
    "The sample-and-hold structure the pipelined ADC has sees alternating low and high impedance.\n",
    "\n",
    "When designing an output filter for an ADC, you need to terminate the line at 100 ohms, to make sure the load impedance seems a 100 ohms to the signal.\n",
    "\n",
    "This needs to be done over the whole frequency band (100 kHz - 10 MHz) in order to minimize reflections.\n",
    "\n",
    "The issue is apart from that that we have 2 different paths for the ADC signal inputs\n",
    "- One with magnetics (where the impedance is supposed to be 1:1).\n",
    "- One without magnetics and with 100 nF blocking capacitors in series.\n",
    "\n",
    "This 100 nF will again have an effect on how the intermediate BP / LP filter will need to look.\n",
    "\n",
    "### Chebyshev vs Butterworth\n",
    "#### Chebyshev\n",
    "- Main ideal: steep roll-off at the expense of a less-flat passband frequency response.\n",
    "\t- Type 1 Chebyshev: ripples in passband\n",
    "\t- Type 2 Chebyshev: ripples in stop-band\n",
    "\n",
    "[Link](https://resources.pcb.cadence.com/blog/about-the-chebyshev-filter)\n",
    "#### Butterworth\n",
    "- Main idea: Flat frequency response in the passband (maximally flat magnitude filter) at the expense of wider transition bands.\n",
    "- Quality factor Q = 0.707\n",
    "- Passive: Cauer topology (LC ladder)\n",
    "- Active: Sallen-Key topology\n",
    "- Digital: \n",
    "\t- matched z-transform \n",
    "\t- bilinear transform\n",
    "\n",
    "[Link](https://www.elprocus.com/butterworth-filter-formula-and-calculations/)"
   ]
  },
  {
   "cell_type": "markdown",
   "id": "3a91c4c5",
   "metadata": {},
   "source": [
    "### Use one of the Chebyshev / Butterworth filters to simulate a basic input stage filter"
   ]
  },
  {
   "cell_type": "markdown",
   "id": "ea0deb7c",
   "metadata": {},
   "source": [
    "### Basic 50-ohm Chebyshev simulation\n"
   ]
  },
  {
   "cell_type": "code",
   "execution_count": null,
   "id": "ea3d26d1",
   "metadata": {},
   "outputs": [],
   "source": []
  }
 ],
 "metadata": {
  "kernelspec": {
   "display_name": ".venv",
   "language": "python",
   "name": "python3"
  },
  "language_info": {
   "codemirror_mode": {
    "name": "ipython",
    "version": 3
   },
   "file_extension": ".py",
   "mimetype": "text/x-python",
   "name": "python",
   "nbconvert_exporter": "python",
   "pygments_lexer": "ipython3",
   "version": "3.12.3"
  }
 },
 "nbformat": 4,
 "nbformat_minor": 5
}
